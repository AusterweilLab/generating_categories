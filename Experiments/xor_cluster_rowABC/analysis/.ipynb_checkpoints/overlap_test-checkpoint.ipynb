{
 "cells": [
  {
   "cell_type": "code",
   "execution_count": 180,
   "metadata": {},
   "outputs": [
    {
     "data": {
      "text/plain": [
       "array([[0. , 0. ],\n",
       "       [1. , 1. ],\n",
       "       [2. , 0. ],\n",
       "       [0.5, 0.2]])"
      ]
     },
     "execution_count": 180,
     "metadata": {},
     "output_type": "execute_result"
    }
   ],
   "source": [
    "points"
   ]
  },
  {
   "cell_type": "code",
   "execution_count": 210,
   "metadata": {},
   "outputs": [
    {
     "data": {
      "image/png": "[encoded data removed]",
      "text/plain": [
       "<Figure size 432x288 with 1 Axes>"
      ]
     },
     "metadata": {
      "needs_background": "light"
     },
     "output_type": "display_data"
    }
   ],
   "source": [
    "#Compute overlap between categories\n",
    "\n",
    "#Temp\n",
    "from scipy.spatial import ConvexHull, convex_hull_plot_2d\n",
    "import numpy as np\n",
    "points = np.array([[0,0],[1,1],[2,0],[.5,.2]])#np.random.rand(30, 2)   # 30 random points in 2-D\n",
    "points2 = np.array([[0.25,0.6],[1,.6],[1.5,1.2],[.5,.2],[1.5,.8]])\n",
    "hull = ConvexHull(points)\n",
    "hull2 = ConvexHull(points2)\n",
    "\n",
    "\n",
    "import matplotlib.pyplot as plt\n",
    "plt.plot(points[:,0], points[:,1], 'o')\n",
    "for simplex in hull.simplices:\n",
    "    plt.plot(points[simplex, 0], points[simplex, 1], 'k-')\n",
    "    \n",
    "plt.plot(points2[:,0], points2[:,1], 'o')\n",
    "for simplex in hull2.simplices:\n",
    "    plt.plot(points2[simplex, 0], points2[simplex, 1], 'r-')\n",
    "     \n",
    "# plt.plot(points[hull.vertices,0], points[hull.vertices,1], 'r--', lw=2)\n",
    "# plt.plot(points[hull.vertices[0],0], points[hull.vertices[0],1], 'ro')\n",
    "# plt.show()"
   ]
  },
  {
   "cell_type": "code",
   "execution_count": 212,
   "metadata": {
    "scrolled": true
   },
   "outputs": [
    {
     "name": "stdout",
     "output_type": "stream",
     "text": [
      "[[0. 0.]\n",
      " [2. 0.]\n",
      " [1. 1.]]\n",
      "[[-0.         -1.          0.        ]\n",
      " [-0.70710678  0.70710678 -0.        ]\n",
      " [ 0.70710678  0.70710678 -1.41421356]]\n"
     ]
    },
    {
     "name": "stderr",
     "output_type": "stream",
     "text": [
      "/Users/sourguyxian/anaconda2/lib/python2.7/site-packages/ipykernel_launcher.py:19: RuntimeWarning: divide by zero encountered in double_scalars\n"
     ]
    }
   ],
   "source": [
    "print(points[hull.vertices])\n",
    "print(hull.equations)\n",
    "\n",
    "#Add first point to end complete the shape\n",
    "#Break points into pairs\n",
    "verts1 = np.concatenate((points[hull.vertices],[points[hull.vertices[0]]]),axis=0)\n",
    "lines1 = [Line(pt,verts1[pi+1]) for pi,pt in enumerate(verts1) if pi<len(verts1)-1]\n",
    "\n",
    "verts2 = np.concatenate((points2[hull2.vertices],[points2[hull2.vertices[0]]]),axis=0)\n",
    "lines2 = [Line(pt,verts2[pi+1]) for pi,pt in enumerate(verts2) if pi<len(verts2)-1]"
   ]
  },
  {
   "cell_type": "code",
   "execution_count": 233,
   "metadata": {},
   "outputs": [
    {
     "name": "stdout",
     "output_type": "stream",
     "text": [
      "(array([[0., 0.],\n",
      "       [2., 0.]]), array([[1.5, 0.8],\n",
      "       [1.5, 1.2]]))\n"
     ]
    },
    {
     "data": {
      "text/plain": [
       "array([1.5, 0. ])"
      ]
     },
     "execution_count": 233,
     "metadata": {},
     "output_type": "execute_result"
    }
   ],
   "source": [
    "l1 = lines1[0]\n",
    "l2 = lines2[3]\n",
    "print(l1.points,l2.points)\n",
    "intersect(l1,l2)"
   ]
  },
  {
   "cell_type": "code",
   "execution_count": 231,
   "metadata": {},
   "outputs": [
    {
     "data": {
      "text/plain": [
       "(None, None)"
      ]
     },
     "execution_count": 231,
     "metadata": {},
     "output_type": "execute_result"
    }
   ],
   "source": [
    "intersect(l1,l2)"
   ]
  },
  {
   "cell_type": "code",
   "execution_count": 242,
   "metadata": {},
   "outputs": [],
   "source": [
    "class Line(object):\n",
    "    #Get the equation of the line crossing pointA and pointB\n",
    "    #Assuming 2-dimensions for simplicity\n",
    "    #First argument can also be nparray or list containing the two points\n",
    "    def __init__(self,pointA,pointB=None):\n",
    "        if pointB is None and len(pointA)==2:\n",
    "            pointB = pointA[1]\n",
    "            pointA = pointA[0]\n",
    "        self.points = np.array([pointA,pointB])\n",
    "        self.eq = self.mc(self.points)\n",
    "        self.xs = np.array([pointA[0],pointB[0]])\n",
    "        self.ys = np.array([pointA[1],pointB[1]])\n",
    "    def mc(self,points):\n",
    "        A = np.array(points[0],dtype=float)\n",
    "        B = np.array(points[1],dtype=float)\n",
    "        diff = A-B\n",
    "        if diff[0]==0:\n",
    "            self.xloc = A[0]\n",
    "        m = diff[1]/diff[0]\n",
    "        c = A[1] - m*A[0]\n",
    "        return (m,c)\n",
    "    \n",
    "def checky(y,line1,line2):\n",
    "    #Check that y-value of intercept lies within ranges of lines \n",
    "    yr1 = line1.ys\n",
    "    yr2 = line2.ys\n",
    "    yrs = [yr1,yr2]\n",
    "    for yr in yrs:\n",
    "        if y<min(yr)or y>max(yr):\n",
    "            return False\n",
    "    return True\n",
    "def intersect(line1,line2):\n",
    "    #Get the intersect between two lines\n",
    "    #If it doesn't exist within the ranges of the lines, return None\n",
    "    #line1 and line2 are line Objects created with Line(pointA,pointB)    \n",
    "    m1,c1 = line1.eq\n",
    "    m2,c2 = line2.eq \n",
    "    \n",
    "    #Handle straight verticals\n",
    "    if np.isinf(m1) and np.isinf(m2):\n",
    "        return(None,None)\n",
    "    elif np.isinf(m1):\n",
    "        x = line1.xs[0]\n",
    "        y = m2*x + c2\n",
    "        if checky(y,line1,line2):  \n",
    "            return np.array((x,y))\n",
    "        else:\n",
    "            return (None,None)        \n",
    "    elif np.isinf(m2):\n",
    "        x = line2.xs[0]\n",
    "        y = m1*x + c1\n",
    "        if checky(y,line1,line2):  \n",
    "            return np.array((x,y))\n",
    "        else:\n",
    "            return (None,None) \n",
    "    \n",
    "    #Otherwise, derive x and y accordingly\n",
    "    x = (c2-c1)/(m1-m2)  \n",
    "    y = m1*x + c1\n",
    "    if checky(y,line1,line2):  \n",
    "        return np.array((x,y))\n",
    "    else:\n",
    "        return (None,None)\n",
    "    "
   ]
  },
  {
   "cell_type": "code",
   "execution_count": 247,
   "metadata": {
    "scrolled": true
   },
   "outputs": [
    {
     "name": "stderr",
     "output_type": "stream",
     "text": [
      "/Users/sourguyxian/anaconda2/lib/python2.7/site-packages/ipykernel_launcher.py:19: RuntimeWarning: divide by zero encountered in double_scalars\n"
     ]
    },
    {
     "data": {
      "image/png": "[encoded data removed]",
      "text/plain": [
       "<Figure size 432x288 with 1 Axes>"
      ]
     },
     "metadata": {
      "needs_background": "light"
     },
     "output_type": "display_data"
    }
   ],
   "source": [
    "li1 = Line(np.array([[2,3],[5,5]]))\n",
    "li2 = Line(np.array([[2.5,4],[2.5,6]]))\n",
    "plt.plot(li1.xs,li1.ys)\n",
    "plt.plot(li2.xs,li2.ys)\n",
    "(x,y) = intersect(li1,li2)\n",
    "if not x is None:\n",
    "    plt.plot(x,y,'ro',markersize=5)\n",
    "#a = get_mc([2,3],[4,6])\n"
   ]
  },
  {
   "cell_type": "code",
   "execution_count": null,
   "metadata": {},
   "outputs": [],
   "source": []
  }
 ],
 "metadata": {
  "kernelspec": {
   "display_name": "Python 2",
   "language": "python",
   "name": "python2"
  },
  "language_info": {
   "codemirror_mode": {
    "name": "ipython",
    "version": 2
   },
   "file_extension": ".py",
   "mimetype": "text/x-python",
   "name": "python",
   "nbconvert_exporter": "python",
   "pygments_lexer": "ipython2",
   "version": "2.7.15"
  }
 },
 "nbformat": 4,
 "nbformat_minor": 2
}

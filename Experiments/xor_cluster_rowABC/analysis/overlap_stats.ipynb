{
 "cells": [
  {
   "cell_type": "code",
   "execution_count": 1,
   "metadata": {
    "scrolled": true
   },
   "outputs": [],
   "source": [
    "import numpy as np\n",
    "import sqlite3\n",
    "import pandas as pd\n",
    "from scipy.spatial import ConvexHull\n",
    "execfile('Imports.py')\n",
    "import Modules.Funcs as funcs\n",
    "\n",
    "#Get generation data\n",
    "dbname = '../data/experiment.db'#'experiments-pooled.db'#'experiments-5con.db'#raw data\n",
    "con = sqlite3.connect(dbname)\n",
    "participants = pd.read_sql_query(\"SELECT participant, condition from participants\", con)\n",
    "generation = pd.read_sql_query(\"SELECT * from generation\", con)\n",
    "alphas = pd.read_sql_query(\"SELECT * from alphas\", con)\n",
    "stimuli = pd.read_sql_query(\"SELECT * from stimuli\", con).values\n",
    "con.close()\n",
    "# create categories mapping                                                                             \n",
    "mapping = pd.DataFrame(columns = ['condition', 'categories'])\n",
    "for i in alphas.columns:\n",
    "    As = alphas[i].values.flatten()\n",
    "    mapping = mapping.append(\n",
    "        dict(condition = i, categories =[As]),\n",
    "        ignore_index = True\n",
    "    )\n",
    "# merge categories into generation                                                                      \n",
    "generation = pd.merge(generation, participants, on='participant')\n",
    "generation = pd.merge(generation, mapping, on='condition')\n",
    "bcKey = 'BC-'\n",
    "overlapAll = {'Not-Alpha':0,'Beta':0,'BC-Beta':0,'BC-Gamma':0}\n",
    "overlapCount = {'Not-Alpha':0,'Beta':0,'BC-Beta':0,'BC-Gamma':0}\n",
    "overlapList = {'Not-Alpha':[],'Beta':[],'BC-Beta':[],'BC-Gamma':[]}\n",
    "overlapPpt = {'Not-Alpha':[],'Beta':[],'BC-Beta':[],'BC-Gamma':[]}\n",
    "overlapSig = {'Not-Alpha':[],'Beta':[],'BC-Beta':[],'BC-Gamma':[]}\n",
    "overlapBC = []\n",
    "for pi,pptset in generation.groupby('participant'):\n",
    "    alphas = stimuli[pptset.categories.values[0][0]]    \n",
    "    gentypes = np.unique(pptset.category.values)\n",
    "    for gentype in gentypes:\n",
    "        idx = pptset.category.values==gentype\n",
    "        genstim = pptset.stimulus.values[idx]\n",
    "        genexm = stimuli[genstim]\n",
    "        #Add a tiny little bit of jitter to prevent flat cats\n",
    "        genexm = funcs.jitterize(genexm,sd = 0.00001)\n",
    "        overlap = funcs.overlapArea(alphas,genexm)        \n",
    "        if 'Gamma' in gentypes:\n",
    "            overlapAll[bcKey+gentype] += overlap\n",
    "            overlapList[bcKey+gentype] += [overlap]\n",
    "            if overlap>0:\n",
    "                overlapCount[bcKey+gentype] += 1 \n",
    "                overlapPpt[bcKey+gentype] += [[pptset.condition.values[0],pptset.participant.values[0],overlap]] \n",
    "                overlapSig[bcKey+gentype] += [overlap]            \n",
    "        else:\n",
    "            overlapAll[gentype] += overlap\n",
    "            overlapList[gentype] += [overlap]\n",
    "            if overlap>0:\n",
    "                overlapCount[gentype] += 1 \n",
    "                overlapPpt[gentype] += [[pptset.condition.values[0],pptset.participant.values[0],overlap]] \n",
    "                overlapSig[gentype] += [overlap]\n",
    "    #Check out overlap within Beta-Gamma\n",
    "    if 'Gamma' in gentypes:\n",
    "        genexm = []\n",
    "        for gentype in gentypes:\n",
    "            idx = pptset.category.values==gentype\n",
    "            genstim = pptset.stimulus.values[idx]\n",
    "            genexmt = stimuli[genstim]\n",
    "            genexm += [funcs.jitterize(genexmt,sd = 0.00001)]         \n",
    "        overlap = funcs.overlapArea(genexm[0],genexm[1]) \n",
    "        if overlap>0:   \n",
    "            overlapBC += [[pptset.condition.values[0],pptset.participant.values[0],overlap]] \n",
    "\n",
    "overlapAvg = zip(overlapAll.keys(),[overlapAll[key]/overlapCount[key] for key in overlapAll.keys()])"
   ]
  },
  {
   "cell_type": "code",
   "execution_count": 2,
   "metadata": {},
   "outputs": [
    {
     "data": {
      "text/plain": [
       "{'BC-Beta': 12, 'BC-Gamma': 13, 'Beta': 26, 'Not-Alpha': 37}"
      ]
     },
     "execution_count": 2,
     "metadata": {},
     "output_type": "execute_result"
    }
   ],
   "source": [
    "overlapCount"
   ]
  },
  {
   "cell_type": "code",
   "execution_count": 3,
   "metadata": {
    "scrolled": false
   },
   "outputs": [
    {
     "data": {
      "text/plain": [
       "[('Not-Alpha', 0.09682087343865431),\n",
       " ('Beta', 0.08149634416146016),\n",
       " ('BC-Beta', 0.07943389488118721),\n",
       " ('BC-Gamma', 0.048436779266403523)]"
      ]
     },
     "execution_count": 3,
     "metadata": {},
     "output_type": "execute_result"
    }
   ],
   "source": [
    "overlapAvg"
   ]
  },
  {
   "cell_type": "code",
   "execution_count": null,
   "metadata": {},
   "outputs": [],
   "source": [
    "Proportions of categories value"
   ]
  },
  {
   "cell_type": "code",
   "execution_count": 80,
   "metadata": {},
   "outputs": [
    {
     "name": "stdout",
     "output_type": "stream",
     "text": [
      "0.1915868388171595\n",
      "0.13795509443046763\n",
      "0.1915868388171595\n",
      "0.12200512162932081\n"
     ]
    }
   ],
   "source": [
    "print(np.max(overlapSig['Not-Alpha']))\n",
    "print(np.max(overlapSig['Beta']))\n",
    "print(np.max(overlapSig['BC-Beta']))\n",
    "print(np.max(overlapSig['BC-Gamma']))\n"
   ]
  },
  {
   "cell_type": "code",
   "execution_count": 79,
   "metadata": {
    "scrolled": true
   },
   "outputs": [
    {
     "data": {
      "text/plain": [
       "{'BC-Beta': [[u'XOR', 130, 0.042904894477301156],\n",
       "  [u'XOR', 144, 0.06292311365807177],\n",
       "  [u'XOR', 149, 0.04222532738709621],\n",
       "  [u'XOR', 150, 0.11770250859907203],\n",
       "  [u'XOR', 286, 0.1349437734277384],\n",
       "  [u'XOR', 312, 0.13493518768470852],\n",
       "  [u'XOR', 334, 0.04966184027210194],\n",
       "  [u'Row', 352, 0.007554487741892636],\n",
       "  [u'XOR', 402, 0.1349437734277384],\n",
       "  [u'Row', 404, 3.5750992648836364e-06],\n",
       "  [u'Cluster', 405, 0.1915868388171595],\n",
       "  [u'XOR', 426, 0.03381588421133405]],\n",
       " 'BC-Gamma': [[u'XOR', 144, 0.0018846177083655228],\n",
       "  [u'XOR', 150, 0.12168673417282008],\n",
       "  [u'XOR', 183, 0.029730375441288155],\n",
       "  [u'XOR', 286, 0.12200512162932081],\n",
       "  [u'Cluster', 301, 0.021707317249440132],\n",
       "  [u'XOR', 310, 0.007561751907535778],\n",
       "  [u'XOR', 318, 0.006792064986228072],\n",
       "  [u'Row', 352, 0.0020810831987574624],\n",
       "  [u'XOR', 373, 0.006521118870710285],\n",
       "  [u'XOR', 402, 0.12028457490401111],\n",
       "  [u'Row', 404, 0.022772189650220424],\n",
       "  [u'Cluster', 405, 0.09923745582127111],\n",
       "  [u'XOR', 426, 0.06739935512661488]],\n",
       " 'Beta': [[u'Row', 18, 0.06893687704357787],\n",
       "  [u'XOR', 95, 0.04856445474848237],\n",
       "  [u'XOR', 135, 0.06680581120676177],\n",
       "  [u'Cluster', 152, 0.033942976952859784],\n",
       "  [u'XOR', 168, 0.05736292396145414],\n",
       "  [u'XOR', 175, 0.12456912004847821],\n",
       "  [u'Cluster', 192, 0.00333020973008904],\n",
       "  [u'Row', 214, 0.054950302230727666],\n",
       "  [u'XOR', 215, 0.042225719830863],\n",
       "  [u'Cluster', 229, 0.13795509443046763],\n",
       "  [u'XOR', 231, 0.0850574625394909],\n",
       "  [u'XOR', 232, 0.13352130997411069],\n",
       "  [u'XOR', 234, 0.06011346434136762],\n",
       "  [u'XOR', 259, 0.1349437734277384],\n",
       "  [u'Row', 262, 0.10495626822157436],\n",
       "  [u'XOR', 289, 0.023008895713806276],\n",
       "  [u'XOR', 324, 0.024539330477406997],\n",
       "  [u'XOR', 354, 0.04511542341413842],\n",
       "  [u'XOR', 355, 0.06256090050408011],\n",
       "  [u'XOR', 364, 0.1349437734277384],\n",
       "  [u'XOR', 376, 0.1349437734277384],\n",
       "  [u'XOR', 381, 0.1349437734277384],\n",
       "  [u'XOR', 393, 0.06967828510052329],\n",
       "  [u'Cluster', 394, 0.11514904770881228],\n",
       "  [u'XOR', 421, 0.1118179188414276],\n",
       "  [u'Row', 423, 0.10495626822157436]],\n",
       " 'Not-Alpha': [[u'Cluster', 129, 0.009246887881493093],\n",
       "  [u'Row', 131, 0.01959887323522742],\n",
       "  [u'Cluster', 142, 0.1915868388171595],\n",
       "  [u'XOR', 146, 0.1349437734277384],\n",
       "  [u'XOR', 157, 0.1317624895262758],\n",
       "  [u'XOR', 161, 0.09410960207682821],\n",
       "  [u'Cluster', 166, 0.00937100356291117],\n",
       "  [u'XOR', 172, 0.07465860729402272],\n",
       "  [u'XOR', 173, 0.07868274668339667],\n",
       "  [u'XOR', 202, 0.1349437734277384],\n",
       "  [u'XOR', 221, 0.06327548714438451],\n",
       "  [u'XOR', 222, 0.13329111542339256],\n",
       "  [u'Cluster', 223, 0.1915868388171595],\n",
       "  [u'XOR', 237, 0.026154806998294748],\n",
       "  [u'Row', 251, 0.10495626822157436],\n",
       "  [u'Row', 257, 0.10495626822157436],\n",
       "  [u'Cluster', 264, 0.1915868388171595],\n",
       "  [u'Cluster', 265, 0.14557588273934402],\n",
       "  [u'XOR', 276, 0.1346719272107602],\n",
       "  [u'XOR', 278, 0.11903370641659268],\n",
       "  [u'XOR', 279, 0.07002690206941742],\n",
       "  [u'Row', 283, 0.0032480245006125804],\n",
       "  [u'Cluster', 287, 0.1915868388171595],\n",
       "  [u'XOR', 299, 0.044837128797472835],\n",
       "  [u'Row', 315, 0.0047493125347333],\n",
       "  [u'Row', 325, 0.09786358372379324],\n",
       "  [u'XOR', 342, 0.0497544131446134],\n",
       "  [u'XOR', 359, 0.11832353744842977],\n",
       "  [u'XOR', 372, 0.13449027976543387],\n",
       "  [u'Row', 379, 0.04761782993212394],\n",
       "  [u'XOR', 387, 0.07128547811812179],\n",
       "  [u'XOR', 403, 0.13466321626507213],\n",
       "  [u'XOR', 407, 0.1349437734277384],\n",
       "  [u'Row', 409, 0.010163758242195902],\n",
       "  [u'XOR', 416, 0.1349437734277384],\n",
       "  [u'XOR', 432, 0.1349437734277384],\n",
       "  [u'Row', 441, 0.10495626822157436]]}"
      ]
     },
     "execution_count": 79,
     "metadata": {},
     "output_type": "execute_result"
    }
   ],
   "source": [
    "overlapPpt"
   ]
  },
  {
   "cell_type": "code",
   "execution_count": 93,
   "metadata": {},
   "outputs": [
    {
     "data": {
      "text/plain": [
       "(array([1., 2., 2., 3., 6., 0., 1., 2., 2., 7.]),\n",
       " array([0.00333167, 0.01679388, 0.03025609, 0.0437183 , 0.05718051,\n",
       "        0.07064273, 0.08410494, 0.09756715, 0.11102936, 0.12449157,\n",
       "        0.13795378]),\n",
       " <a list of 10 Patch objects>)"
      ]
     },
     "execution_count": 93,
     "metadata": {},
     "output_type": "execute_result"
    },
    {
     "data": {
      "image/png": "[encoded data removed]",
      "text/plain": [
       "<Figure size 432x288 with 1 Axes>"
      ]
     },
     "metadata": {
      "needs_background": "light"
     },
     "output_type": "display_data"
    }
   ],
   "source": [
    "import matplotlib.pyplot as plt\n",
    "plt.hist(overlapSig['Not-Alpha'])\n",
    "plt.hist(overlapSig['Beta'])"
   ]
  },
  {
   "cell_type": "code",
   "execution_count": 92,
   "metadata": {},
   "outputs": [
    {
     "data": {
      "text/plain": [
       "[[u'XOR', 144, 0.001845984752951974],\n",
       " [u'XOR', 149, 3.6042111749129535e-06],\n",
       " [u'XOR', 150, 0.6556902827629288],\n",
       " [u'Row', 163, 0.012143680519292837],\n",
       " [u'XOR', 183, 3.2414657119626936e-06],\n",
       " [u'Cluster', 185, 0.1316334253316773],\n",
       " [u'Row', 200, 0.029830978803379968],\n",
       " [u'Cluster', 268, 0.017944054806149714],\n",
       " [u'XOR', 286, 2.3673002624799113],\n",
       " [u'XOR', 312, 0.25287188145580486],\n",
       " [u'Row', 314, 0.0037381584079229637],\n",
       " [u'XOR', 318, 0.027115216315940077],\n",
       " [u'Cluster', 338, 0.00818531075617699],\n",
       " [u'Row', 352, 0.02087640643355201],\n",
       " [u'XOR', 402, 1.9966635265874726],\n",
       " [u'Row', 404, 0.11484113484281792],\n",
       " [u'Cluster', 405, 0.5073601130755924],\n",
       " [u'Cluster', 408, 0.27978764457866423],\n",
       " [u'XOR', 426, 0.471580819211199]]"
      ]
     },
     "execution_count": 92,
     "metadata": {},
     "output_type": "execute_result"
    }
   ],
   "source": [
    "overlapBC"
   ]
  }
 ],
 "metadata": {
  "kernelspec": {
   "display_name": "Python 2",
   "language": "python",
   "name": "python2"
  },
  "language_info": {
   "codemirror_mode": {
    "name": "ipython",
    "version": 2
   },
   "file_extension": ".py",
   "mimetype": "text/x-python",
   "name": "python",
   "nbconvert_exporter": "python",
   "pygments_lexer": "ipython2",
   "version": "2.7.15"
  }
 },
 "nbformat": 4,
 "nbformat_minor": 2
}

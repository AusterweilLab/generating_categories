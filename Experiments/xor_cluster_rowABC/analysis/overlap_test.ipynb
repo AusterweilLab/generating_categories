{
 "cells": [
  {
   "cell_type": "code",
   "execution_count": 2,
   "metadata": {
    "scrolled": true
   },
   "outputs": [
    {
     "data": {
      "text/plain": [
       "1.0"
      ]
     },
     "execution_count": 2,
     "metadata": {},
     "output_type": "execute_result"
    }
   ],
   "source": [
    "from scipy.spatial import ConvexHull, convex_hull_plot_2d\n",
    "import numpy as np\n",
    "execfile('Imports.py')\n",
    "import Modules.Funcs as funcs\n",
    "\n",
    "points = np.array([[0,0],[.5,.5],[1,0],[1,1],[0,1]])\n",
    "points2 = points#np.array([[.5,.5],[1.1,-.1],[1.1,1.1]])#np.array([[.5,0],[1,0],[1,1],[.5,1],[.7,.7]])\n",
    "\n",
    "a = funcs.overlapArea(points,points2)\n",
    "a"
   ]
  },
  {
   "cell_type": "code",
   "execution_count": 3,
   "metadata": {},
   "outputs": [
    {
     "data": {
      "text/plain": [
       "inf"
      ]
     },
     "execution_count": 3,
     "metadata": {},
     "output_type": "execute_result"
    }
   ],
   "source": [
    "a = np.inf\n",
    "a"
   ]
  },
  {
   "cell_type": "code",
   "execution_count": 72,
   "metadata": {
    "scrolled": true
   },
   "outputs": [
    {
     "name": "stderr",
     "output_type": "stream",
     "text": [
      "/Users/sourguyxian/anaconda2/lib/python2.7/site-packages/ipykernel_launcher.py:19: RuntimeWarning: divide by zero encountered in double_scalars\n",
      "/Users/sourguyxian/anaconda2/lib/python2.7/site-packages/ipykernel_launcher.py:20: RuntimeWarning: invalid value encountered in double_scalars\n"
     ]
    },
    {
     "data": {
      "text/plain": [
       "(-0.07500000000000001, 1.575, -0.16000000000000003, 1.4899999999999998)"
      ]
     },
     "execution_count": 72,
     "metadata": {},
     "output_type": "execute_result"
    },
    {
     "data": {
      "image/png": "[encoded data removed]",
      "text/plain": [
       "<Figure size 432x288 with 1 Axes>"
      ]
     },
     "metadata": {
      "needs_background": "light"
     },
     "output_type": "display_data"
    }
   ],
   "source": [
    "#Compute overlap between categories\n",
    "\n",
    "#Temp\n",
    "from scipy.spatial import ConvexHull, convex_hull_plot_2d\n",
    "import numpy as np\n",
    "execfile('Imports.py')\n",
    "import Modules.Funcs as funcs\n",
    "# points = np.array([[0,0],[1,1],[2,0],[1,1]])#np.random.rand(30, 2)   # 30 random points in 2-D\n",
    "# points2 = np.array([[0.25,0.6],[1,.6],[.5,.2],[1.5,.8]])\n",
    "# points3 = np.array([[0,0],[1,1],[2,0],[.5,.2],[.75,4]])\n",
    "points = np.array([[0,0],[.5,.5],[1,0],[1,1],[0,1]])\n",
    "points2 = np.array([[1.5,.5],[1.1,-.1],[1.1,1.1]])#np.array([[.5,0],[1,0],[1,1],[.5,1],[.7,.7]])\n",
    "#make circle\n",
    "# pstep = .01\n",
    "# px = np.arange(0,1.+pstep,pstep)\n",
    "# locus = np.array([.5,.5])\n",
    "# rad = np.sqrt(.5**2 + .5**2)\n",
    "# pya = np.sqrt(rad**2 - (px-locus[0])**2) + locus[1]\n",
    "# pyb = -np.sqrt(rad**2 - (px-locus[0])**2) + locus[1]\n",
    "# py = np.append(pya,pyb)\n",
    "# px = np.append(px,px)\n",
    "# points2 = np.concatenate([[px],[py]],axis=0).T\n",
    "\n",
    "hull = ConvexHull(points)\n",
    "hull2 = ConvexHull(points2)\n",
    "\n",
    "\n",
    "import matplotlib.pyplot as plt\n",
    "plt.plot(points[:,0], points[:,1], 'o')\n",
    "for simplex in hull.simplices:\n",
    "    plt.plot(points[simplex, 0], points[simplex, 1], 'k-')\n",
    "    \n",
    "plt.plot(points2[:,0], points2[:,1], 'o')\n",
    "for simplex in hull2.simplices:\n",
    "    plt.plot(points2[simplex, 0], points2[simplex, 1], 'r-')\n",
    "       \n",
    "verts1 = np.concatenate((points[hull.vertices],[points[hull.vertices[0]]]),axis=0)\n",
    "lines1 = [Line(pt,verts1[pi+1]) for pi,pt in enumerate(verts1) if pi<len(verts1)-1]\n",
    "\n",
    "verts2 = np.concatenate((points2[hull2.vertices],[points2[hull2.vertices[0]]]),axis=0)\n",
    "lines2 = [Line(pt,verts2[pi+1]) for pi,pt in enumerate(verts2) if pi<len(verts2)-1]\n",
    "\n",
    "#Get intercepts\n",
    "ints = []\n",
    "for l1 in lines1:\n",
    "    for l2 in lines2:\n",
    "        (x,y) = intersect(l1,l2)\n",
    "        if not x is None:\n",
    "            ints += [intersect(l1,l2)]\n",
    "\n",
    "#For each vertex, check if it's contained within the other hull\n",
    "inVerts = []\n",
    "for p in points[hull.vertices]:\n",
    "    if isinhull(hull2,p):\n",
    "        inVerts += [p]\n",
    "        \n",
    "for p in points2[hull2.vertices]:\n",
    "    if isinhull(hull,p):\n",
    "        inVerts += [p]\n",
    "\n",
    "overVerts = ints+inVerts\n",
    "if len(overVerts)>0:\n",
    "    pvts = np.array(overVerts)\n",
    "    plt.plot(pvts[:,0],pvts[:,1],'d',markersize=15)    \n",
    "    hullOver = ConvexHull(overVerts)\n",
    "    print(hullOver.volume)\n",
    "plt.axis('square')\n",
    "\n",
    "\n",
    "# plt.plot(points[hull.vertices,0], points[hull.vertices,1], 'r--', lw=2)\n",
    "# plt.plot(points[hull.vertices[0],0], points[hull.vertices[0],1], 'ro')\n",
    "# plt.show()"
   ]
  },
  {
   "cell_type": "code",
   "execution_count": 66,
   "metadata": {
    "scrolled": false
   },
   "outputs": [
    {
     "data": {
      "text/plain": [
       "0.7853981633974483"
      ]
     },
     "execution_count": 66,
     "metadata": {},
     "output_type": "execute_result"
    }
   ],
   "source": [
    "np.pi * .5**2"
   ]
  },
  {
   "cell_type": "code",
   "execution_count": 32,
   "metadata": {},
   "outputs": [
    {
     "data": {
      "text/plain": [
       "(None, None)"
      ]
     },
     "execution_count": 32,
     "metadata": {},
     "output_type": "execute_result"
    }
   ],
   "source": [
    "intersect(lines1[3],lines2[3])"
   ]
  },
  {
   "cell_type": "code",
   "execution_count": 33,
   "metadata": {},
   "outputs": [
    {
     "name": "stdout",
     "output_type": "stream",
     "text": [
      "(array([[0., 1.],\n",
      "       [0., 0.]]), array([[0.5, 0. ],\n",
      "       [1. , 0. ]]))\n"
     ]
    },
    {
     "ename": "NameError",
     "evalue": "name 'lll' is not defined",
     "output_type": "error",
     "traceback": [
      "\u001b[0;31m-----------------------------------------------------------------\u001b[0m",
      "\u001b[0;31mNameError\u001b[0m                       Traceback (most recent call last)",
      "\u001b[0;32m<ipython-input-33-766edbce5c5f>\u001b[0m in \u001b[0;36m<module>\u001b[0;34m()\u001b[0m\n\u001b[1;32m      6\u001b[0m             \u001b[0;32mif\u001b[0m \u001b[0mx\u001b[0m\u001b[0;34m+\u001b[0m\u001b[0my\u001b[0m\u001b[0;34m==\u001b[0m\u001b[0;36m0\u001b[0m\u001b[0;34m:\u001b[0m\u001b[0;34m\u001b[0m\u001b[0m\n\u001b[1;32m      7\u001b[0m                 \u001b[0;32mprint\u001b[0m\u001b[0;34m(\u001b[0m\u001b[0ml1\u001b[0m\u001b[0;34m.\u001b[0m\u001b[0mpoints\u001b[0m\u001b[0;34m,\u001b[0m\u001b[0ml2\u001b[0m\u001b[0;34m.\u001b[0m\u001b[0mpoints\u001b[0m\u001b[0;34m)\u001b[0m\u001b[0;34m\u001b[0m\u001b[0m\n\u001b[0;32m----> 8\u001b[0;31m                 \u001b[0mlll\u001b[0m\u001b[0;34m\u001b[0m\u001b[0m\n\u001b[0m\u001b[1;32m      9\u001b[0m             \u001b[0mints\u001b[0m \u001b[0;34m+=\u001b[0m \u001b[0;34m[\u001b[0m\u001b[0mintersect\u001b[0m\u001b[0;34m(\u001b[0m\u001b[0ml1\u001b[0m\u001b[0;34m,\u001b[0m\u001b[0ml2\u001b[0m\u001b[0;34m)\u001b[0m\u001b[0;34m]\u001b[0m\u001b[0;34m\u001b[0m\u001b[0m\n",
      "\u001b[0;31mNameError\u001b[0m: name 'lll' is not defined"
     ]
    }
   ],
   "source": [
    "ints = []\n",
    "for l1 in lines1:\n",
    "    for l2 in lines2:\n",
    "        (x,y) = intersect(l1,l2)\n",
    "        if not x is None:\n",
    "            if x+y==0:\n",
    "                print(l1.points,l2.points)\n",
    "                lll\n",
    "            ints += [intersect(l1,l2)]"
   ]
  },
  {
   "cell_type": "code",
   "execution_count": 288,
   "metadata": {
    "scrolled": true
   },
   "outputs": [
    {
     "name": "stdout",
     "output_type": "stream",
     "text": [
      "[[0. 0.]\n",
      " [2. 0.]\n",
      " [1. 1.]]\n"
     ]
    },
    {
     "name": "stderr",
     "output_type": "stream",
     "text": [
      "/Users/sourguyxian/anaconda2/lib/python2.7/site-packages/ipykernel_launcher.py:19: RuntimeWarning: divide by zero encountered in double_scalars\n"
     ]
    }
   ],
   "source": [
    "print(points[hull.vertices])\n",
    "# print(hull.equations)\n",
    "\n",
    "#Add first point to end complete the shape\n",
    "#Break points into pairs\n",
    "verts1 = np.concatenate((points[hull.vertices],[points[hull.vertices[0]]]),axis=0)\n",
    "lines1 = [Line(pt,verts1[pi+1]) for pi,pt in enumerate(verts1) if pi<len(verts1)-1]\n",
    "\n",
    "verts2 = np.concatenate((points2[hull2.vertices],[points2[hull2.vertices[0]]]),axis=0)\n",
    "lines2 = [Line(pt,verts2[pi+1]) for pi,pt in enumerate(verts2) if pi<len(verts2)-1]"
   ]
  },
  {
   "cell_type": "code",
   "execution_count": 309,
   "metadata": {},
   "outputs": [],
   "source": [
    "#Get intercepts\n",
    "ints = []\n",
    "for l1 in lines1:\n",
    "    for l2 in lines2:\n",
    "        (x,y) = intersect(l1,l2)\n",
    "        if not x is None:\n",
    "            ints += [intersect(l1,l2)]\n",
    "# ints = np.array(ints)"
   ]
  },
  {
   "cell_type": "code",
   "execution_count": 310,
   "metadata": {},
   "outputs": [],
   "source": [
    "#For each vertex, check if it's contained within the other hull\n",
    "inVerts = []\n",
    "for p in points[hull.vertices]:\n",
    "    if isinhull(hull2,p):\n",
    "        inVerts += [p]\n",
    "        \n",
    "for p in points2[hull2.vertices]:\n",
    "    if isinhull(hull,p):\n",
    "        inVerts += [p]\n",
    "                "
   ]
  },
  {
   "cell_type": "code",
   "execution_count": 311,
   "metadata": {},
   "outputs": [
    {
     "data": {
      "text/plain": [
       "[array([1.02702703, 0.97297297]),\n",
       " array([1.3125, 0.6875]),\n",
       " array([0.92307692, 0.92307692]),\n",
       " array([0.38461538, 0.38461538]),\n",
       " array([0.5, 0.2])]"
      ]
     },
     "execution_count": 311,
     "metadata": {},
     "output_type": "execute_result"
    }
   ],
   "source": [
    "overVerts = ints+inVerts\n",
    "overVerts"
   ]
  },
  {
   "cell_type": "code",
   "execution_count": 34,
   "metadata": {},
   "outputs": [],
   "source": [
    "class Line(object):\n",
    "    #Get the equation of the line crossing pointA and pointB\n",
    "    #Assuming 2-dimensions for simplicity\n",
    "    #First argument can also be nparray or list containing the two points\n",
    "    def __init__(self,pointA,pointB=None):\n",
    "        if pointB is None and len(pointA)==2:\n",
    "            pointB = pointA[1]\n",
    "            pointA = pointA[0]\n",
    "        self.points = np.array([pointA,pointB])\n",
    "        self.eq = self.mc(self.points)\n",
    "        self.xs = np.array([pointA[0],pointB[0]])\n",
    "        self.ys = np.array([pointA[1],pointB[1]])\n",
    "    def mc(self,points):\n",
    "        A = np.array(points[0],dtype=float)\n",
    "        B = np.array(points[1],dtype=float)\n",
    "        diff = A-B\n",
    "        if diff[0]==0:\n",
    "            self.xloc = A[0]\n",
    "        m = diff[1]/diff[0]\n",
    "        c = A[1] - m*A[0]\n",
    "        return (m,c)\n",
    "    \n",
    "    def checkxy(self,x,y,line2):\n",
    "        #Check that x- and y-value of intercept lies within ranges of lines \n",
    "        yr1 = self.ys\n",
    "        yr2 = line2.ys\n",
    "        yrs = [yr1,yr2]\n",
    "        for yr in yrs:\n",
    "            if y<min(yr)or y>max(yr):\n",
    "                return False\n",
    "        \n",
    "        xr1 = self.xs\n",
    "        xr2 = line2.xs\n",
    "        xrs = [xr1,xr2]\n",
    "        for xr in xrs:\n",
    "            if x<min(xr)or x>max(xr):\n",
    "                return False\n",
    "        #If all good, return True\n",
    "        return True\n",
    "\n",
    "def intersect(line1,line2):\n",
    "    #Get the intersect between two lines\n",
    "    #If it doesn't exist within the ranges of the lines, return None\n",
    "    #line1 and line2 are line Objects created with Line(pointA,pointB)    \n",
    "    m1,c1 = line1.eq\n",
    "    m2,c2 = line2.eq \n",
    "    #if m's are equal, they're parallel and will never intersect\n",
    "    if m1==m2:\n",
    "        return(None,None)\n",
    "    #Handle straight verticals\n",
    "    if np.isinf(m1) and np.isinf(m2):\n",
    "        return(None,None)\n",
    "    elif np.isinf(m1):\n",
    "        x = line1.xs[0]\n",
    "        y = m2*x + c2\n",
    "        if line1.checkxy(x,y,line2):  \n",
    "            return np.array((x,y))\n",
    "        else:\n",
    "            return (None,None)        \n",
    "    elif np.isinf(m2):\n",
    "        x = line2.xs[0]\n",
    "        y = m1*x + c1\n",
    "        if line2.checkxy(x,y,line1):  \n",
    "            return np.array((x,y))\n",
    "        else:\n",
    "            return (None,None) \n",
    "    \n",
    "    #Otherwise, derive x and y accordingly\n",
    "    x = (c2-c1)/(m1-m2)  \n",
    "    y = m1*x + c1\n",
    "    if line1.checkxy(x,y,line2):  \n",
    "        return np.array((x,y))\n",
    "    else:\n",
    "        return (None,None)\n",
    "    \n",
    "def isinhull(hull,point):\n",
    "    #Check if point is within the hull\n",
    "    #If point changes the vertices of the hull, return false\n",
    "    points = hull.points\n",
    "    newpoints = np.concatenate([points,[point]])\n",
    "    newhull = ConvexHull(newpoints)\n",
    "    pold = points[hull.vertices]\n",
    "    pnew = newpoints[newhull.vertices]\n",
    "    if not len(pold) == len(pnew):\n",
    "        return False\n",
    "    else: \n",
    "        #If same length, test for equivalence across all elements\n",
    "        if np.all(pold == pnew):\n",
    "            return True\n",
    "        else:\n",
    "            return False\n",
    "    "
   ]
  },
  {
   "cell_type": "code",
   "execution_count": 252,
   "metadata": {
    "scrolled": true
   },
   "outputs": [
    {
     "name": "stderr",
     "output_type": "stream",
     "text": [
      "/Users/sourguyxian/anaconda2/lib/python2.7/site-packages/ipykernel_launcher.py:19: RuntimeWarning: divide by zero encountered in double_scalars\n"
     ]
    },
    {
     "data": {
      "image/png": "[encoded data removed]",
      "text/plain": [
       "<Figure size 432x288 with 1 Axes>"
      ]
     },
     "metadata": {
      "needs_background": "light"
     },
     "output_type": "display_data"
    }
   ],
   "source": [
    "li1 = Line(np.array([[2,3],[5,5]]))\n",
    "li2 = Line(np.array([[2.5,2],[2.5,6]]))\n",
    "plt.plot(li1.xs,li1.ys)\n",
    "plt.plot(li2.xs,li2.ys)\n",
    "(x,y) = intersect(li1,li2)\n",
    "if not x is None:\n",
    "    plt.plot(x,y,'ro',markersize=5)\n",
    "#a = get_mc([2,3],[4,6])\n"
   ]
  },
  {
   "cell_type": "code",
   "execution_count": null,
   "metadata": {},
   "outputs": [],
   "source": []
  }
 ],
 "metadata": {
  "kernelspec": {
   "display_name": "Python 2",
   "language": "python",
   "name": "python2"
  },
  "language_info": {
   "codemirror_mode": {
    "name": "ipython",
    "version": 2
   },
   "file_extension": ".py",
   "mimetype": "text/x-python",
   "name": "python",
   "nbconvert_exporter": "python",
   "pygments_lexer": "ipython2",
   "version": "2.7.15"
  }
 },
 "nbformat": 4,
 "nbformat_minor": 2
}

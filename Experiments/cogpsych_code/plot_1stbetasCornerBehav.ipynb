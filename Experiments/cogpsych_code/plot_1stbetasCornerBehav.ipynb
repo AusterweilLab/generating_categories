{
 "cells": [
  {
   "cell_type": "code",
   "execution_count": 1,
   "metadata": {},
   "outputs": [],
   "source": [
    "#Can we get plots of first betas?\n",
    "#Shows each individual plot along with which model best fits it\n",
    "import pickle, math\n",
    "import pandas as pd\n",
    "import sqlite3\n",
    "import random\n",
    "import os\n",
    "import itertools\n",
    "exec(open('Imports.py').read()) #execfile('Imports.py')\n",
    "exec(open('ImportModels.py').read())\n",
    "import Modules.Funcs as funcs\n",
    "# from Modules.Classes import Simulation\n",
    "# from Modules.Classes import CopyTweak\n",
    "# from Modules.Classes import CopyTweakRep\n",
    "# from Modules.Classes import Packer\n",
    "# from Modules.Classes import PackerRep\n",
    "# from Modules.Classes import PackerEuc\n",
    "# from Modules.Classes import ConjugateJK13\n",
    "# from Modules.Classes import RepresentJK13\n",
    "from scipy.stats import stats as ss\n",
    "import numpy as np\n",
    "import matplotlib.pyplot as plt\n",
    "import seaborn as sns\n",
    "sns.set_style(\"whitegrid\")\n",
    "\n",
    "#plotting options\n",
    "STAT_LIMS =  (-1.0, 1.0)\n",
    "#Fit to only last trial?\n",
    "fitlast = False\n",
    "#Make plots?\n",
    "doplots = True\n",
    "saveplots = False\n",
    "if fitlast:\n",
    "    showlast = True\n",
    "else:\n",
    "    showlast = False #True = Show last even if fitting to all?\n",
    "#Bootstrap parameters\n",
    "nbootstraps = 1000\n",
    "\n",
    "#Some plotting options\n",
    "font = {'family' : 'DejaVu Sans',\n",
    "        'weight' : 'regular',\n",
    "        'size'   : 15}\n",
    "\n",
    "#Specify simulation values\n",
    "N_SAMPLES = 10000\n",
    "WT_THETA = 1.5\n",
    "MIN_LL = 1e-10\n",
    "\n",
    "# Specify default dataname\n",
    "dbname = 'experiment-corner.db'#'experiments-5con.db'#raw data\n",
    "dataname_def = 'corner'#'5con'#bestparms comes from here\n",
    "\n",
    "# Specify default dataname\n",
    "# dataname_def = 'pooled'#'nosofsky1986'#'NGPMG1994'\n",
    "participant_def = 'all'\n",
    "unique_trials_def = 'all'\n",
    "dataname = dataname_def\n",
    "execfile('validate_data.py')\n",
    "\n",
    "bestparmdb = \"pickles/chtc_gs_best_params_{}\".format(src)\n",
    "\n",
    "\n",
    "plt.rc('font', **font)\n",
    "\n",
    "# get data from pickle\n",
    "with open(pickledir+src, \"rb\" ) as f:\n",
    "    trials = pickle.load( f )\n",
    "\n",
    "with open(bestparmdb, \"rb\" ) as f:\n",
    "    best_params_t = pickle.load( f )\n",
    "\n",
    "#Rebuild parms into a smaller dict\n",
    "best_params = dict()\n",
    "for modelname in best_params_t.keys():    \n",
    "    best_params[modelname] = dict()\n",
    "    for i,parmname in enumerate(best_params_t[modelname]['parmnames']):\n",
    "        parmval = best_params_t[modelname]['bestparmsll']\n",
    "        best_params[modelname][parmname] = parmval[i]\n",
    "modelList = [Packer,RepresentJK13]\n",
    "#modelList = [CopyTweak,CopyTweakRep,Packer, RepresentJK13,]                            \n",
    "\n",
    "#Specify plot order\n",
    "modelPlotOrder = np.array([[Packer,RepresentJK13],[CopyTweak,ConjugateJK13]])\n",
    "     \n",
    "unique_trials = 'all'\n",
    "trials.task = task\n",
    "\n",
    "#Create new trialset\n",
    "con = sqlite3.connect(dbname)\n",
    "participants = pd.read_sql_query(\"SELECT participant, condition from participants\", con)\n",
    "generation = pd.read_sql_query(\"SELECT * from generation\", con)\n",
    "alphas = pd.read_sql_query(\"SELECT * from alphas\", con)\n",
    "stimuli = pd.read_sql_query(\"SELECT * from stimuli\", con).values\n",
    "con.close()\n",
    "\n",
    "\n",
    "\n"
   ]
  },
  {
   "cell_type": "code",
   "execution_count": 2,
   "metadata": {
    "scrolled": true
   },
   "outputs": [
    {
     "data": {
      "image/png": "[encoded data removed]",
      "text/plain": [
       "<Figure size 432x216 with 3 Axes>"
      ]
     },
     "metadata": {
      "needs_background": "light"
     },
     "output_type": "display_data"
    }
   ],
   "source": [
    "firsts = []\n",
    "firsts += [generation.loc[(generation.wrap_ax!=1.0) & (generation.trial==0),'stimulus']] #Squares\n",
    "firsts += [generation.loc[(generation.wrap_ax==1.0) & (generation.trial==0),'stimulus']] #Circles\n",
    "#Convert to ps\n",
    "ps = []\n",
    "f,ax = plt.subplots(1,len(firsts),figsize=(3*len(firsts),3))\n",
    "A = alphas.Corner_C.values\n",
    "As = stimuli[A]\n",
    "titles = ['Squares','Circles']\n",
    "for i,first in enumerate(firsts):\n",
    "    freq = first.value_counts(normalize=True,sort=False).sort_index()\n",
    "    p = np.zeros(len(stimuli))\n",
    "    p[freq.keys()] = freq.values\n",
    "    ps += [p]    \n",
    "    gps = funcs.gradientroll(p,'roll')[:,:,0]\n",
    "    ps_ElRange = gps.max()-gps.min();\n",
    "    plotVals = (gps-gps.min())/ps_ElRange\n",
    "    gammas = []\n",
    "    im = funcs.plotgradient(ax[i], plotVals, As, [], gammas = gammas,clim = [0,1], cmap = 'Blues',beta_col='green')\n",
    "    ax[i].set_title(titles[i])\n",
    "# add colorbar\n",
    "f.subplots_adjust(right=0.8)\n",
    "cbar = f.add_axes([0.88, 0.17, 0.04, 0.66])\n",
    "cb = f.colorbar(im, cax=cbar, ticks = [0,1])#,boundaries=np.unique(plotVals))\n",
    "cbar.set_yticklabels(['Lowest\\nFrequency', 'Greatest\\nFrequency'],fontsize=12)\n",
    "# cb = f.colorbar(im, cax=cbar, ticks = np.unique(plotVals),boundaries=np.unique(plotVals))\n",
    "# cbar.set_yticklabels(range(6),fontsize=10)\n",
    "cbar.tick_params(length = 0)\n",
    "\n",
    "if saveplots:\n",
    "    plt.savefig('private/firstbetas_cornerbehav.pdf',bbox_inches='tight')"
   ]
  },
  {
   "cell_type": "code",
   "execution_count": 3,
   "metadata": {
    "scrolled": true
   },
   "outputs": [
    {
     "data": {
      "image/png": "[encoded data removed]",
      "text/plain": [
       "<Figure size 432x216 with 2 Axes>"
      ]
     },
     "metadata": {
      "needs_background": "light"
     },
     "output_type": "display_data"
    }
   ],
   "source": [
    "firsts = []\n",
    "firsts += [generation.loc[(generation.wrap_ax!=1.0) & (generation.trial==0),'stimulus']] #Squares\n",
    "firsts += [generation.loc[(generation.wrap_ax==1.0) & (generation.trial==0),'stimulus']] #Circles\n",
    "#Convert to ps\n",
    "ps = []\n",
    "f,ax = plt.subplots(1,len(firsts),figsize=(3*len(firsts),3))\n",
    "A = alphas.Corner_C.values\n",
    "As = stimuli[A]\n",
    "step = .25\n",
    "adj = - step/2\n",
    "for i,first in enumerate(firsts):\n",
    "    stimvals = stimuli[first]\n",
    "    #Add jitter\n",
    "    stimvals = funcs.jitterize(stimvals,sd=.03)\n",
    "    ax[i].scatter(stimvals[:,0],stimvals[:,1],alpha=.5)\n",
    "    stepx = np.unique(stimuli[:,0]) + adj\n",
    "    stepy = np.unique(stimuli[:,1]) + adj\n",
    "    stepx = np.append(stepx,max(stepx)+step)\n",
    "    stepy = np.append(stepy,max(stepy)+step)\n",
    "    for pi,xx in enumerate(stepx):\n",
    "        ax[i].grid(False)\n",
    "        ax[i].plot([xx,xx],[min(stepy),max(stepy)],'k-')        \n",
    "        ax[i].plot([min(stepx),max(stepx)],[xx,xx],'k-')\n",
    "        for AsEl in As:\n",
    "            ax[i].text(AsEl[0],AsEl[1],'A',color='red',\n",
    "                       horizontalalignment='center',verticalalignment='center',\n",
    "                      alpha=.15,\n",
    "                      fontsize=8)\n"
   ]
  },
  {
   "cell_type": "code",
   "execution_count": 4,
   "metadata": {
    "scrolled": true
   },
   "outputs": [
    {
     "name": "stdout",
     "output_type": "stream",
     "text": [
      "{'category_variance_bias': 4.0706961282242596e+20, 'determinism': 0.725392401354471, 'category_mean_bias': 1.0014877864883311e-10, 'domain_variance_bias': 0.13740177759888955}\n",
      "Outer edges: 0.45\n",
      "Inner spaces: 0.55\n"
     ]
    },
    {
     "data": {
      "text/plain": [
       "[<matplotlib.lines.Line2D at 0x1a1b75f6d0>]"
      ]
     },
     "execution_count": 4,
     "metadata": {},
     "output_type": "execute_result"
    },
    {
     "data": {
      "image/png": "[encoded data removed]",
      "text/plain": [
       "<Figure size 216x216 with 1 Axes>"
      ]
     },
     "metadata": {},
     "output_type": "display_data"
    }
   ],
   "source": [
    "##Probabilities at outer edge vs inner space - Rep\n",
    "steps = 9\n",
    "vals = np.linspace(-1, 1,steps).tolist()\n",
    "space = np.fliplr(funcs.cartesian([vals, vals]))\n",
    "st = 2./(steps-1)\n",
    "\n",
    "wrap_ax=None\n",
    "outind = range(steps) + [(e+1)*steps for e in range(steps-2)] + [(e+1)*steps+steps-1 for e in range(steps-2)] + range(steps**2-steps,steps**2)\n",
    "innind = [i for i in range(steps**2) if not i in outind]\n",
    "model = RepresentJK13\n",
    "params = best_params[model.model]\n",
    "# params['category_mean_bias']=0\n",
    "categories1 = [np.array([[-1.,-1.],[1.,-1.],[-1.,1.],[1.,1.]])]\n",
    "\n",
    "# categories1 = [np.array([[-1,-1],[1,-1],[-1,1],[1,1]])]\n",
    "\n",
    "# categories1 = [np.array([[-1,-.5],[1,-.5],[-1,-.75],[1,-.75]])]\n",
    "temp1 = model(categories1,params,wrap_ax=wrap_ax,stimstep=[st,st]).get_generation_ps(space,1,'generate')\n",
    "outps = sum(temp1[outind])\n",
    "innps = sum(temp1[innind])\n",
    "# print(np.round(np.reshape(temp1,(9,9)),3))\n",
    "print(params)\n",
    "print('Outer edges: ' + str(np.round(outps,2)))\n",
    "print('Inner spaces: ' + str(np.round(innps,2)))\n",
    "temp11= np.reshape(temp1,(steps,steps))\n",
    "midtemp = (steps+1)/2 - 1\n",
    "oneup = temp11[midtemp+1][0]\n",
    "onedn = temp11[midtemp-1][0]\n",
    "# print(oneup)\n",
    "# print(onedn)\n",
    "# print(oneup-onedn)\n",
    "f,ax = plt.subplots(1,1,figsize=(3,3))\n",
    "gps = funcs.gradientroll(temp1,'roll')[:,:,0]\n",
    "ps_ElRange = gps.max()-gps.min();\n",
    "plotVals = (gps-gps.min())/ps_ElRange\n",
    "gammas = []\n",
    "funcs.plotgradient(ax, plotVals, categories1[0], [], gammas = gammas,clim = STAT_LIMS, cmap = 'PuOr',beta_col='green')\n",
    "xlim = ax.get_xlim()\n",
    "ylim = ax.get_ylim()\n",
    "yhalf = np.mean(ylim)\n",
    "ax.plot(xlim,[yhalf,yhalf],'r-')"
   ]
  },
  {
   "cell_type": "code",
   "execution_count": 5,
   "metadata": {},
   "outputs": [
    {
     "name": "stdout",
     "output_type": "stream",
     "text": [
      "PACKER - Outer edges: 0.06, Max: 0.0004\n",
      "PACKER - Inner spaces: 0.94, Max: 0.0005\n",
      "Representative - Outer edges: 0.09, Max: 0.0005\n",
      "Representative - Inner spaces: 0.91, Max: 0.0005\n",
      "PACKER - Outer edges: 0.05, Max: 0.0004\n",
      "PACKER - Inner spaces: 0.95, Max: 0.0006\n",
      "Max wrapped axis reached. Up density ratio = 1.00000\n",
      "Max wrapped axis reached. Down density ratio = 1.00000\n",
      "Representative - Outer edges: 0.06, Max: 0.0012\n",
      "Representative - Inner spaces: 0.94, Max: 0.0012\n"
     ]
    },
    {
     "data": {
      "image/png": "[encoded data removed]",
      "text/plain": [
       "<Figure size 504x460.8 with 4 Axes>"
      ]
     },
     "metadata": {},
     "output_type": "display_data"
    }
   ],
   "source": [
    "# Probabilities at outer edge vs inner space - Rep\n",
    "\n",
    "steps = 50\n",
    "vals = np.linspace(-1, 1,steps).tolist()\n",
    "space = np.fliplr(funcs.cartesian([vals, vals]))\n",
    "st = 2./(steps-1)\n",
    "\n",
    "models = [Packer,RepresentJK13]\n",
    "f,ax = plt.subplots(2,len(models),figsize=(7,3.2*len(models)))\n",
    "wraps = [None,1]\n",
    "labels = [['a','b'],['c','d']]\n",
    "for wi,wrap_ax in enumerate(wraps):\n",
    "    for mi,model in enumerate(models):\n",
    "        outind = range(steps) + [(e+1)*steps for e in range(steps-2)] + [(e+1)*steps+steps-1 for e in range(steps-2)] + range(steps**2-steps,steps**2)        \n",
    "        innind = [i for i in range(steps**2) if not i in outind]\n",
    "        params = best_params[model.model]\n",
    "        categories1 = [np.array([[-1.,-1.],[1.,-1.],[-1.,1.],[1.,1.]])]\n",
    "        temp1 = model(categories1,params,wrap_ax=wrap_ax).get_generation_ps(space,1,'generate')\n",
    "        outps = sum(temp1[outind])\n",
    "        innps = sum(temp1[innind])\n",
    "        maxout = max(temp1[outind])\n",
    "        maxin = max(temp1[innind])\n",
    "        print('{} - Outer edges: {}, Max: {}'.format(model.modelshort,np.round(outps,2),np.round(maxout,4)))\n",
    "        print('{} - Inner spaces: {}, Max: {}'.format(model.modelshort, np.round(innps,2),np.round(maxin,4)))\n",
    "        gps = funcs.gradientroll(temp1,'roll')[:,:,0]\n",
    "        ps_ElRange = gps.max()-gps.min();\n",
    "        plotVals = (gps-gps.min())/ps_ElRange\n",
    "        gammas = []\n",
    "        categories1[0] = [[-.9,-.9],[-.9,.9],[.9,-.9],[.9,.9]]\n",
    "        funcs.plotgradient(ax[wi,mi], plotVals, categories1[0], [], gammas = gammas,clim = [0,1], cmap = 'Blues',beta_col='green')\n",
    "        if wi==0:\n",
    "            modeln = model.modelshort \n",
    "            if mi==0:\n",
    "                ax[wi,mi].set_ylabel('Squares\\n\\n\\n',fontsize=12)\n",
    "        else:\n",
    "            modeln = ''\n",
    "            if mi==0:\n",
    "                ax[wi,mi].set_ylabel('Circles\\n\\n(Toroidal)\\nOrientation',fontsize=12)\n",
    "            else:\n",
    "                ax[wi,mi].set_ylabel('(Toroidal) \\n Orientation',fontsize=12)\n",
    "            ax[wi,mi].set_xlabel('Size\\n(Bounded)',fontsize=12)\n",
    "        \n",
    "        #titlestr = '%s\\nOuter edges: %.2f \\nInner spaces: %.2f' % (modeln,outps,innps)\n",
    "        titlestr = '%s\\n\\n (%s)'% (modeln,labels[wi][mi])\n",
    "        ax[wi,mi].set_title(titlestr,fontsize=12)\n",
    "        \n",
    "if saveplots:\n",
    "    plt.savefig('private/firstbetas_cornerPostfits50.pdf',bbox_inches='tight')"
   ]
  },
  {
   "cell_type": "code",
   "execution_count": 10,
   "metadata": {},
   "outputs": [
    {
     "name": "stdout",
     "output_type": "stream",
     "text": [
      "Data Squares corr x = -0.496139, p = 0.395265\n",
      "Data Squares corr y = -0.310575, p = 0.611016\n",
      "PACKER Squares corr x = -0.963499, p = 0.008325\n",
      "PACKER Squares corr y = -0.963499, p = 0.008325\n",
      "Representative Squares corr x = 0.950367, p = 0.013175\n",
      "Representative Squares corr y = 0.950367, p = 0.013175\n",
      "\n",
      "\n",
      "Data Circles corr x = -0.948487, p = 0.013926\n",
      "Data Circles corr y = -0.744589, p = 0.148872\n",
      "PACKER Circles corr x = -0.966840, p = 0.007212\n",
      "PACKER Circles corr y = -0.992998, p = 0.000703\n",
      "Max wrapped axis reached. Up density ratio = 1.00000\n",
      "Max wrapped axis reached. Down density ratio = 1.00000\n",
      "Representative Circles corr x = 0.950367, p = 0.013175\n",
      "Representative Circles corr y = -0.919291, p = 0.027189\n",
      "\n",
      "\n"
     ]
    },
    {
     "data": {
      "image/png": "[encoded data removed]",
      "text/plain": [
       "<Figure size 576x576 with 4 Axes>"
      ]
     },
     "metadata": {
      "needs_background": "light"
     },
     "output_type": "display_data"
    }
   ],
   "source": [
    "#Get distances from center\n",
    "from scipy.stats import pearsonr\n",
    "center = np.array([0,0])\n",
    "f,ax = plt.subplots(2,2,figsize=(8,8))\n",
    "models = [Packer,RepresentJK13]#,RepresentJK13]\n",
    "modelc = ['r','g']\n",
    "modelm = ['x','o']\n",
    "ys = ['Squares','Circles']\n",
    "categories = [np.array([[-1.,-1.],[1.,-1.],[-1.,1.],[1.,1.]])]\n",
    "wraps = [None,1]\n",
    "bwidth = .2 #.1#bar width\n",
    "fs = 18\n",
    "\n",
    "\n",
    "for i,first in enumerate(firsts):\n",
    "    for mi,model in enumerate(models):\n",
    "        params = best_params[model.model]\n",
    "        #firsts: squares, then circles, plotted as rows\n",
    "        wrap_ax = wraps[i]\n",
    "        stimvals = stimuli[first]\n",
    "        distances = np.abs(stimvals)\n",
    "        distx = distances[:,0]\n",
    "        disty = distances[:,1]\n",
    "        if mi==0:\n",
    "            #Normalize them so they sum to 1\n",
    "            #Bin them manually\n",
    "            distxu = np.unique(distx)\n",
    "            distyu = np.unique(disty)\n",
    "            n_max =  [1]+[2 for _ in range(len(distxu)-1)]#adjust for there being twice as many edges as centers (i.e., there is only one clumn of 0s, but .25,.5,.75, and 1 needs to be averaged)\n",
    "            nx = np.array([np.count_nonzero(distx==x) for x in distxu],dtype=float)/n_max\n",
    "            ny = np.array([np.count_nonzero(disty==y) for y in distyu],dtype=float)/n_max\n",
    "            #Normalise so bins sum to 1\n",
    "            nxp = nx/sum(nx)\n",
    "            nyp = ny/sum(ny)\n",
    "#             ax[i,0].bar(distxu,nxp,width=bwidth,color='None',edgecolor='k')\n",
    "#             ax[i,1].bar(distyu,nyp,width=bwidth,color='None',edgecolor='k')\n",
    "            ax[i,0].bar(distxu,nxp,width=bwidth)\n",
    "            ax[i,1].bar(distyu,nyp,width=bwidth)    \n",
    "            datarx = pearsonr(nxp,distxu)\n",
    "            datary = pearsonr(nyp,distyu)\n",
    "            print('Data %s corr x = %f, p = %f'%(ys[i],datarx[0],datarx[1]))\n",
    "            print('Data %s corr y = %f, p = %f'%(ys[i],datary[0],datary[1]))\n",
    "            \n",
    "#             mx = datarx[0]*np.std(nxp)/np.std(distxu)#np.cov(distxu,nxp)[0,1]\n",
    "#             cx = np.mean(nxp) - mx*(np.mean(distxu))\n",
    "    \n",
    "#             my = datary[0]*np.std(nyp)/np.std(distyu)#np.cov(distxu,nxp)[0,1]\n",
    "#             cy = np.mean(nyp) - my*(np.mean(distyu))\n",
    "#             ax[i,0].plot([0,1],[cx,cx+mx],'-')\n",
    "#             ax[i,1].plot([0,1],[cy,cy+my],'-')\n",
    "\n",
    "            #Try other distance metrics?\n",
    "#             distc = np.sum(distances,axis=1) #city block\n",
    "#             diste = np.sqrt(np.sum(distances**2,axis=1)) #Euclidean\n",
    "#             datac = pearsonr(distc)\n",
    "#             print('Data %s corr city = %f, p = %f'%(ys[i],datarc[0],datarc[1]))\n",
    "#             print('Data %s corr euc = %f, p = %f'%(ys[i],datare[0],datare[1]))\n",
    "\n",
    "        # Get model predictions\n",
    "        ps = model(categories,params,wrap_ax=wrap_ax).get_generation_ps(stimuli,1,'generate')                \n",
    "        distsp = np.abs(stimuli)\n",
    "        distxp = distsp[:,0]\n",
    "        distyp = distsp[:,1]\n",
    "        #Get average ps?\n",
    "        distxpu = np.unique(distxp)\n",
    "        distypu = np.unique(distyp)\n",
    "        psxu = np.array([np.mean(ps[distxp==x]) for x in distxpu])\n",
    "        psyu = np.array([np.mean(ps[distyp==y]) for y in distypu])\n",
    "        #Normalize them so they sum to 1\n",
    "        psxu = np.array(psxu)/np.sum(psxu)\n",
    "        psyu = np.array(psyu)/np.sum(psyu)\n",
    "#         ax[i,0].scatter(distxpu,psxu,c=modelc[mi],marker=modelm[mi],zorder=2)\n",
    "#         ax[i,1].scatter(distypu,psyu,c=modelc[mi],marker=modelm[mi],zorder=2)\n",
    "        #label axes\n",
    "        ax[i,0].set_ylabel('{}\\n\\nMean Probability'.format(ys[i]),fontsize=fs)\n",
    "        #Set ylims\n",
    "        ax[i,0].set_ylim([0,.4])\n",
    "        ax[i,1].set_ylim([0,.4])\n",
    "        ax[i,1].set_xlabel('y-distance',fontsize=fs)\n",
    "        if i==1:\n",
    "            ax[i,0].set_xlabel('x-distance',fontsize=fs)\n",
    "            ax[i,1].set_xlabel('y-distance',fontsize=fs)\n",
    "        #Print errors\n",
    "        ss_errx = sum((psxu-nxp)**2)\n",
    "        ss_erry = sum((psyu-nyp)**2)\n",
    "#         print('%s %s error x = %f'%(model.modelshort,ys[i],ss_errx))\n",
    "#         print('%s %s error y = %f'%(model.modelshort,ys[i],ss_erry))\n",
    "#         print('%s %s error Total = %f'%(model.modelshort,ys[i],ss_errx+ss_erry))\n",
    "        prx = pearsonr(psxu,distxpu)\n",
    "        pry = pearsonr(psyu,distypu)\n",
    "        print('%s %s corr x = %f, p = %f'%(model.modelshort,ys[i],prx[0],prx[1]))\n",
    "        print('%s %s corr y = %f, p = %f'%(model.modelshort,ys[i],pry[0],pry[1]))\n",
    "        \n",
    "\n",
    "    print('\\n')\n",
    "ax[1,1].set_visible(False)\n",
    "# ax[0,1].legend({'Packer','Rep'},fontsize=14)        \n",
    "plt.savefig('private/firstbetas_distcent.pdf',bbox_inches='tight')\n",
    "#plt.savefig('private/firstbetas_distcentModelOverlay.pdf')"
   ]
  },
  {
   "cell_type": "code",
   "execution_count": 16,
   "metadata": {},
   "outputs": [
    {
     "data": {
      "text/plain": [
       "array([[13.45   , -1.375  ],\n",
       "       [-1.375  ,  0.15625]])"
      ]
     },
     "execution_count": 16,
     "metadata": {},
     "output_type": "execute_result"
    }
   ],
   "source": [
    "covx = np.cov(nx,distxu)\n",
    "covx"
   ]
  },
  {
   "cell_type": "code",
   "execution_count": 113,
   "metadata": {},
   "outputs": [
    {
     "ename": "AttributeError",
     "evalue": "'numpy.ndarray' object has no attribute 'index'",
     "output_type": "error",
     "traceback": [
      "\u001b[0;31m-----------------------------------------------------------------\u001b[0m",
      "\u001b[0;31mAttributeError\u001b[0m                  Traceback (most recent call last)",
      "\u001b[0;32m<ipython-input-113-eb4450773066>\u001b[0m in \u001b[0;36m<module>\u001b[0;34m()\u001b[0m\n\u001b[0;32m----> 1\u001b[0;31m \u001b[0mnp\u001b[0m\u001b[0;34m.\u001b[0m\u001b[0marray\u001b[0m\u001b[0;34m(\u001b[0m\u001b[0mpossdist\u001b[0m\u001b[0;34m)\u001b[0m\u001b[0;34m.\u001b[0m\u001b[0mindex\u001b[0m\u001b[0;34m(\u001b[0m\u001b[0;36m2\u001b[0m\u001b[0;34m)\u001b[0m\u001b[0;34m\u001b[0m\u001b[0m\n\u001b[0m",
      "\u001b[0;31mAttributeError\u001b[0m: 'numpy.ndarray' object has no attribute 'index'"
     ]
    }
   ],
   "source": [
    "np."
   ]
  },
  {
   "cell_type": "code",
   "execution_count": 173,
   "metadata": {
    "scrolled": true
   },
   "outputs": [
    {
     "name": "stdout",
     "output_type": "stream",
     "text": [
      "(-0.31887841176965037, 0.4029440749521745)\n",
      "(-0.8325610746094635, 0.005347312272836135)\n"
     ]
    },
    {
     "data": {
      "image/png": "[encoded data removed]",
      "text/plain": [
       "<Figure size 576x288 with 2 Axes>"
      ]
     },
     "metadata": {},
     "output_type": "display_data"
    }
   ],
   "source": [
    "dmetric = lambda x : np.sum(x,axis=1)\n",
    "f,ax = plt.subplots(1,len(firsts),figsize=(8,4))\n",
    "ys = ['Squares','Circles']\n",
    "for fi,first in enumerate(firsts):\n",
    "    #Get each possible discrete distance\n",
    "    discrete_steplen = .25\n",
    "    discrete_step1d = np.arange(0,1.1,.25) #end at 1.1 because I want to count the endpoint\n",
    "    possdist = []\n",
    "    for step1 in discrete_step1d:\n",
    "        for step2 in discrete_step1d:\n",
    "            one_dist = dmetric(np.abs([[step1,step2]]))\n",
    "            if not one_dist in possdist:\n",
    "                possdist += [dmetric(np.abs([[step1,step2]]))[0]]\n",
    "    possdist = np.sort(possdist)\n",
    "    alldist = dmetric(np.abs(stimuli))\n",
    "    possdist_n = []\n",
    "    for pd in possdist:        \n",
    "        possdist_n += [np.count_nonzero(pd==alldist)]\n",
    "    distc_raw = dmetric(np.abs(stimuli[first]))\n",
    "#     distc_raw = distc_raw/.25\n",
    "    distcn = [np.count_nonzero(distc_raw==u) for u in np.unique(distc_raw)]\n",
    "    distci = [np.where(possdist==u)[0][0] for u in np.unique(distc_raw)]\n",
    "    distc = np.zeros(len(possdist_n))\n",
    "    distc[distci] = distcn\n",
    "    #Divide by number of squares/locations at all possible distances\n",
    "    distc = distc/np.array(possdist_n)\n",
    "    distc = funcs.softmax(distc,toggle=False)\n",
    "    (r,p) = pearsonr(distc,possdist)\n",
    "    print(pearsonr(distc,possdist))\n",
    "    ax[fi].set_title(ys[fi])\n",
    "#     ax[fi].set_ylim([0,.5])\n",
    "    #Standardise them?\n",
    "    possdiststd = (possdist-np.mean(possdist))/np.std(possdist)\n",
    "    distcstd = (distc-np.mean(distc))/np.std(distc)\n",
    "    ax[fi].plot(possdiststd,distcstd,'x')\n",
    "    x = np.array([min(possdiststd),max(possdiststd)])\n",
    "    y = r*x\n",
    "    ax[fi].plot(x,y)"
   ]
  },
  {
   "cell_type": "code",
   "execution_count": 190,
   "metadata": {
    "scrolled": false
   },
   "outputs": [
    {
     "name": "stdout",
     "output_type": "stream",
     "text": [
      "(-0.3697560085326553, 0.17494421023047826)\n",
      "(-0.7866838378633806, 0.0005027202438892905)\n"
     ]
    },
    {
     "data": {
      "image/png": "[encoded data removed]",
      "text/plain": [
       "<Figure size 576x288 with 2 Axes>"
      ]
     },
     "metadata": {},
     "output_type": "display_data"
    }
   ],
   "source": [
    "#Try Euclidean distance\n",
    "dmetric = lambda x : np.sqrt(np.sum(x**2,axis=1))\n",
    "f,ax = plt.subplots(1,len(firsts),figsize=(8,4))\n",
    "ys = ['Squares','Circles']\n",
    "for fi,first in enumerate(firsts):\n",
    "    #Get each possible discrete distance\n",
    "    discrete_steplen = .25\n",
    "    discrete_step1d = np.arange(0,1.1,.25) #end at 1.1 because I want to count the endpoint\n",
    "    possdist = []\n",
    "    for step1 in discrete_step1d:\n",
    "        for step2 in discrete_step1d:\n",
    "            one_dist = dmetric(np.abs([[step1,step2]]))\n",
    "            if not one_dist in possdist:\n",
    "                possdist += [dmetric(np.abs([[step1,step2]]))[0]]\n",
    "    possdist = np.sort(possdist)\n",
    "    alldist = dmetric(np.abs(stimuli))\n",
    "    possdist_n = []\n",
    "    for pd in possdist:        \n",
    "        possdist_n += [np.count_nonzero(pd==alldist)]\n",
    "    distc_raw = dmetric(np.abs(stimuli[first]))\n",
    "#     distc_raw = distc_raw/.25\n",
    "    distcn = [np.count_nonzero(distc_raw==u) for u in np.unique(distc_raw)]\n",
    "    distci = [np.where(possdist==u)[0][0] for u in np.unique(distc_raw)]\n",
    "    distc = np.zeros(len(possdist_n))\n",
    "    distc[distci] = distcn\n",
    "    #Divide by number of squares/locations at all possible distances\n",
    "    distc = distc/np.array(possdist_n)\n",
    "    distc = funcs.softmax(distc,toggle=False)\n",
    "    (r,p) = pearsonr(distc,possdist)\n",
    "    print(pearsonr(distc,possdist))\n",
    "    ax[fi].set_title(ys[fi])\n",
    "#     ax[fi].set_ylim([0,.5])\n",
    "    #Standardise them?\n",
    "    possdiststd = (possdist-np.mean(possdist))/np.std(possdist)\n",
    "    distcstd = (distc-np.mean(distc))/np.std(distc)\n",
    "    ax[fi].plot(possdiststd,distcstd,'x')\n",
    "    x = np.array([min(possdiststd),max(possdiststd)])\n",
    "    y = r*x\n",
    "    ax[fi].plot(x,y)"
   ]
  },
  {
   "cell_type": "code",
   "execution_count": 191,
   "metadata": {},
   "outputs": [
    {
     "data": {
      "text/plain": [
       "15"
      ]
     },
     "execution_count": 191,
     "metadata": {},
     "output_type": "execute_result"
    }
   ],
   "source": [
    "len(possdiststd)"
   ]
  },
  {
   "cell_type": "code",
   "execution_count": 164,
   "metadata": {},
   "outputs": [
    {
     "name": "stdout",
     "output_type": "stream",
     "text": [
      "(array([-2.25202318e-16]), array([[-0.78668384]]))\n"
     ]
    }
   ],
   "source": [
    "from sklearn import linear_model\n",
    "regr = linear_model.LinearRegression()\n",
    "fit = regr.fit(possdiststd.reshape(-1,1),distcstd.reshape(-1,1))\n",
    "print(regr.intercept_,regr.coef_)\n",
    "rr = pearsonr(distcstd,possdiststd)\n",
    "testm = rr[0]*(np.std(distcstd)/np.std(possdiststd))"
   ]
  },
  {
   "cell_type": "code",
   "execution_count": 167,
   "metadata": {},
   "outputs": [
    {
     "data": {
      "text/plain": [
       "(-0.7866838378633806, 0.0005027202438892905)"
      ]
     },
     "execution_count": 167,
     "metadata": {},
     "output_type": "execute_result"
    }
   ],
   "source": [
    "pearsonr(distc,possdist)"
   ]
  },
  {
   "cell_type": "code",
   "execution_count": 71,
   "metadata": {
    "scrolled": true
   },
   "outputs": [
    {
     "data": {
      "text/plain": [
       "(array([ 6., 11.,  7., 12., 10.]),\n",
       " array([0.        , 0.28284271, 0.56568542, 0.84852814, 1.13137085,\n",
       "        1.41421356]),\n",
       " <a list of 5 Patch objects>)"
      ]
     },
     "execution_count": 71,
     "metadata": {},
     "output_type": "execute_result"
    },
    {
     "data": {
      "image/png": "[encoded data removed]",
      "text/plain": [
       "<Figure size 432x288 with 1 Axes>"
      ]
     },
     "metadata": {
      "needs_background": "light"
     },
     "output_type": "display_data"
    }
   ],
   "source": [
    "diste = np.sqrt(np.sum(np.abs(stimuli[firsts[0]])**2,axis=1))\n",
    "plt.hist(diste,bins=5)"
   ]
  },
  {
   "cell_type": "code",
   "execution_count": 167,
   "metadata": {
    "scrolled": true
   },
   "outputs": [
    {
     "data": {
      "text/plain": [
       "array([3., 1., 1., 2., 1., 4., 2., 0., 4., 4., 2., 2., 2., 2., 3., 6., 1.,\n",
       "       5., 3., 1., 4., 4., 0., 3., 6., 6., 0., 0., 4., 5., 4., 4., 2., 1.,\n",
       "       4., 1., 6., 5., 1., 6., 2., 1., 2.])"
      ]
     },
     "execution_count": 167,
     "metadata": {},
     "output_type": "execute_result"
    }
   ],
   "source": [
    "distc/.25"
   ]
  },
  {
   "cell_type": "code",
   "execution_count": 100,
   "metadata": {},
   "outputs": [
    {
     "data": {
      "text/plain": [
       "array([[ 0.01915272, -0.05188679],\n",
       "       [-0.05188679,  0.15625   ]])"
      ]
     },
     "execution_count": 100,
     "metadata": {},
     "output_type": "execute_result"
    }
   ],
   "source": [
    "np.cov(nxp,distxu)"
   ]
  },
  {
   "cell_type": "code",
   "execution_count": 99,
   "metadata": {},
   "outputs": [
    {
     "data": {
      "text/plain": [
       "array([0.37735849, 0.22641509, 0.26415094, 0.11320755, 0.01886792])"
      ]
     },
     "execution_count": 99,
     "metadata": {},
     "output_type": "execute_result"
    }
   ],
   "source": [
    "nxp"
   ]
  },
  {
   "cell_type": "code",
   "execution_count": 139,
   "metadata": {},
   "outputs": [
    {
     "name": "stdout",
     "output_type": "stream",
     "text": [
      "0.15840342342251323\n",
      "(0.9999921848534198, 2.6226421717577426e-08)\n"
     ]
    },
    {
     "data": {
      "text/plain": [
       "<matplotlib.collections.PathCollection at 0x1a27241a50>"
      ]
     },
     "execution_count": 139,
     "metadata": {},
     "output_type": "execute_result"
    },
    {
     "data": {
      "image/png": "[encoded data removed]",
      "text/plain": [
       "<Figure size 432x288 with 1 Axes>"
      ]
     },
     "metadata": {
      "needs_background": "light"
     },
     "output_type": "display_data"
    }
   ],
   "source": [
    "ma = 2\n",
    "n = 5\n",
    "a = np.random.uniform(size=n)#np.random.multivariate_normal([0,0],np.array([[1,.5],[.5,1]]),1000)\n",
    "b = ma*a+np.random.normal(size=n)*.01\n",
    "cova = np.cov(a,b)#np.cov(a[:,0],a[:,1])\n",
    "print(cova[0,1])\n",
    "cora = pearsonr(a,b)\n",
    "print(cora[0],cora[1])\n",
    "plt.scatter(a,b)"
   ]
  },
  {
   "cell_type": "code",
   "execution_count": 138,
   "metadata": {},
   "outputs": [
    {
     "data": {
      "text/plain": [
       "array([[ 0.15625   , -0.05188679],\n",
       "       [-0.05188679,  0.01915272]])"
      ]
     },
     "execution_count": 138,
     "metadata": {},
     "output_type": "execute_result"
    }
   ],
   "source": [
    "np.cov(distxu,nxp)"
   ]
  },
  {
   "cell_type": "code",
   "execution_count": 155,
   "metadata": {},
   "outputs": [
    {
     "data": {
      "text/plain": [
       "SpearmanrResult(correlation=-0.8207826816681234, pvalue=0.08858700531354378)"
      ]
     },
     "execution_count": 155,
     "metadata": {},
     "output_type": "execute_result"
    }
   ],
   "source": [
    "spearmanr(nyp,(1,2,3,4,5))"
   ]
  },
  {
   "cell_type": "code",
   "execution_count": 146,
   "metadata": {},
   "outputs": [
    {
     "data": {
      "text/plain": [
       "array([0.59016393, 0.08196721, 0.18032787, 0.08196721, 0.06557377])"
      ]
     },
     "execution_count": 146,
     "metadata": {},
     "output_type": "execute_result"
    }
   ],
   "source": [
    "nyp"
   ]
  },
  {
   "cell_type": "code",
   "execution_count": 154,
   "metadata": {},
   "outputs": [
    {
     "data": {
      "text/plain": [
       "SpearmanrResult(correlation=-0.8207826816681234, pvalue=0.08858700531354378)"
      ]
     },
     "execution_count": 154,
     "metadata": {},
     "output_type": "execute_result"
    }
   ],
   "source": [
    "from scipy.stats import spearmanr\n",
    "spearmanr((6,.1,2,.1,.05),range(5))"
   ]
  },
  {
   "cell_type": "code",
   "execution_count": null,
   "metadata": {},
   "outputs": [],
   "source": []
  }
 ],
 "metadata": {
  "kernelspec": {
   "display_name": "Python 2",
   "language": "python",
   "name": "python2"
  },
  "language_info": {
   "codemirror_mode": {
    "name": "ipython",
    "version": 2
   },
   "file_extension": ".py",
   "mimetype": "text/x-python",
   "name": "python",
   "nbconvert_exporter": "python",
   "pygments_lexer": "ipython2",
   "version": "2.7.15"
  }
 },
 "nbformat": 4,
 "nbformat_minor": 2
}

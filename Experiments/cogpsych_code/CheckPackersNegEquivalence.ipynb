{
 "cells": [
  {
   "cell_type": "code",
   "execution_count": 6,
   "metadata": {},
   "outputs": [],
   "source": [
    "#A script comparing whether the PACKER and NPacker models are identical.\n",
    "\n",
    "\n",
    "#First, generate predictions using some parm values\n",
    "\n",
    "#A replacement for execfile if using python 3?\n",
    "exec(open(\"Imports.py\").read())\n",
    "exec(open(\"ImportModels.py\").read())\n",
    "\n",
    "import pickle\n",
    "import sqlite3\n",
    "import numpy as np\n",
    "import pandas as pd\n",
    "import matplotlib.pyplot as plt\n",
    "\n",
    "\n",
    "import Modules.Funcs as funcs\n",
    "\n",
    "dbname = 'experiments-5con.db'#raw data\n",
    "# dataname = 'xcrABC' #for parms\n",
    "# exec(open('validate_data.py').read())\n",
    "\n",
    "con = sqlite3.connect(dbname)\n",
    "# participants = pd.read_sql_query(\"SELECT participant, condition from participants\", con)\n",
    "# generation = pd.read_sql_query(\"SELECT * from generation\", con)\n",
    "alphas = pd.read_sql_query(\"SELECT * from alphas\", con)\n",
    "stimuli = pd.read_sql_query(\"SELECT * from stimuli\", con).values\n",
    "con.close()\n",
    "\n",
    "# options for the optimization routine                                                                                                                         \n",
    "options = dict(\n",
    "    method = 'Nelder-Mead',\n",
    "    options = dict(maxiter = 500, disp = False),\n",
    "    tol = 0.01,\n",
    ")\n",
    "\n",
    "\n",
    "betas = [40,33,50]\n",
    "\n",
    "crow = [[10, 12, 14, 16],betas] #similar to row with a couple of close betas\n",
    "cxor = [[0, 10, 70, 80],betas] #similar to xor with a couple of close betas\n",
    "cclu = [[14, 16, 32, 34],betas] #similar to cluster with a couple of close betas\n",
    "ccor = [[0, 8, 72, 80],betas] #similar to corner with a couple of close betas\n",
    "\n",
    "categorySets = [crow,cxor,cclu,ccor]\n"
   ]
  },
  {
   "cell_type": "code",
   "execution_count": 3,
   "metadata": {},
   "outputs": [
    {
     "name": "stdout",
     "output_type": "stream",
     "text": [
      "0\n",
      "[3.350839285980715, 1.5260584367923429, 0.7295425948174776]\n",
      "1\n",
      "[1.1794567375947325, 0.17656341690107252, 0.823921184827976]\n",
      "2\n",
      "[4.3713656272166235, 2.9691597133242276, 0.9791407919146573]\n",
      "3\n",
      "[0.5609745558944824, 0.08052231629601506, 1.4707708190931428]\n"
     ]
    },
    {
     "data": {
      "image/png": "[encoded data removed]",
      "text/plain": [
       "<Figure size 432x864 with 8 Axes>"
      ]
     },
     "metadata": {},
     "output_type": "display_data"
    }
   ],
   "source": [
    "#Generate responses from NPacker\n",
    "ntrials = 10000\n",
    "setparms = {'negwt':5,'specificity':1,'theta_cntrst':1,'theta_target':1}\n",
    "\n",
    "f,ax = plt.subplots(len(categorySets),2,figsize=(6,3*len(categorySets)))\n",
    "for ci,categoriesi in enumerate(categorySets):\n",
    "    print(ci)\n",
    "    categories = [stimuli[np.array(i,dtype=int),:] for i in categoriesi if len(i)>0]\n",
    "    nps = NPacker(categories,setparms,wrap_ax=None).get_generation_ps(stimuli,1,'generate')\n",
    "\n",
    "    responsesCounts = np.random.multinomial(ntrials,nps)\n",
    "    #Convert counts to array of responses\n",
    "    responses = []\n",
    "    for ri,r in enumerate(responsesCounts):\n",
    "        responses += [ri for i in range(r)]\n",
    "\n",
    "    #Create trial object -- simple one trial for each point across entire distribution\n",
    "    # points = 9**2\n",
    "    # responses = range(points) #See cell above\n",
    "    participants = range(ntrials)\n",
    "    trials = 0\n",
    "    category = 'Beta'\n",
    "    categoriespd = [categoriesi for i in range(ntrials)]\n",
    "\n",
    "    generation = pd.DataFrame({'participant':participants,'stimulus':responses})\n",
    "                              # 'trial':trials,'category':category,'categories':categories})\n",
    "    generation['trial'] = trials\n",
    "    generation['categories'] = categoriespd\n",
    "    generation['category'] = category\n",
    "\n",
    "    #Generate trial set\n",
    "    trials = Simulation.Trialset(stimuli)\n",
    "    trials = trials.add_frame(generation)\n",
    "    trials.task = 'generate'\n",
    "\n",
    "\n",
    "    inits = [1.5,1.5,1.5]#{'specificity':1.5,'theta_cntrst':1.5,'theta_target':1.5}\n",
    "    #Run the fits\n",
    "    res = Simulation.hillclimber(Packer, trials, options,\n",
    "                                 inits=inits, results = False,\n",
    "                                 callbackstyle=None) #can use 'iter','none','.'       \n",
    "    fitparm = res.x\n",
    "    print(fitparm)\n",
    "    # ps = NPacker(categories,setparms,wrap_ax=None).get_generation_ps(stimuli,1,'generate')\n",
    "    \n",
    "    pps = Packer(categories,fitparm,wrap_ax=None).get_generation_ps(stimuli,1,'generate')\n",
    "    ps = [nps,pps]\n",
    "\n",
    "    STAT_LIMS = (-1.0, 1.0)\n",
    "    betacol = ['green' for bi in range(len(categories[1]))]\n",
    "\n",
    "    for i in range(2):\n",
    "        gps = funcs.gradientroll(ps[i],'roll')[:,:,0]\n",
    "        ps_ElRange = gps.max()-gps.min();\n",
    "        plotVals = (gps-gps.min())/ps_ElRange\n",
    "        gammas = []\n",
    "        funcs.plotgradient(ax[ci,i], plotVals, categories[0], categories[1], gammas = gammas,clim = STAT_LIMS, cmap = 'PuOr',beta_col=betacol)\n",
    "#         ax[ci].set_title()\n",
    "        # ax[ci].set_title(catstr[ci])"
   ]
  },
  {
   "cell_type": "code",
   "execution_count": 160,
   "metadata": {
    "scrolled": true
   },
   "outputs": [
    {
     "data": {
      "text/plain": [
       "array([0.01986031, 0.01756005, 0.01412272, 0.00960491, 0.00485517,\n",
       "       0.001277  , 0.00209708, 0.00122578, 0.00441262, 0.01756005,\n",
       "       0.01412272, 0.00960491, 0.00485517, 0.00145167, 0.00013659,\n",
       "       0.0003286 , 0.00012705, 0.00122578, 0.01879607, 0.01592931,\n",
       "       0.0118853 , 0.00707831, 0.00282885, 0.00037354, 0.00086704,\n",
       "       0.0003286 , 0.00209708, 0.01872192, 0.01581827, 0.01173906,\n",
       "       0.00692492, 0.00272127, 0.00025606, 0.        , 0.00020408,\n",
       "       0.00160222, 0.02213967, 0.02128278, 0.01984683, 0.01753896,\n",
       "       0.        , 0.00272127, 0.00422649, 0.00182138, 0.00551928,\n",
       "       0.02263905, 0.02213967, 0.02128278, 0.01984683, 0.01753896,\n",
       "       0.00692492, 0.008881  , 0.00551928, 0.01032656, 0.0229262 ,\n",
       "       0.02263905, 0.02213967, 0.02128278, 0.01984683, 0.01173906,\n",
       "       0.01351102, 0.01032656, 0.01471285, 0.02309006, 0.0229262 ,\n",
       "       0.02263905, 0.02213967, 0.02128278, 0.01581827, 0.01712613,\n",
       "       0.01471285, 0.01797099, 0.02318318, 0.02309006, 0.0229262 ,\n",
       "       0.02263905, 0.02213967, 0.01872192, 0.01958149, 0.01797099,\n",
       "       0.02012162])"
      ]
     },
     "execution_count": 160,
     "metadata": {},
     "output_type": "execute_result"
    }
   ],
   "source": [
    "pps"
   ]
  },
  {
   "cell_type": "code",
   "execution_count": 5,
   "metadata": {},
   "outputs": [
    {
     "name": "stdout",
     "output_type": "stream",
     "text": [
      "0\n",
      "[1.2744604943323095, 0.9484682525186289, 0.8768653539173968]\n",
      "1\n",
      "[0.7420023662576228, 1.4377780952266044, 1.2182473976166428]\n",
      "2\n",
      "[1.0045995519286075, 0.990157955874486, 0.9924546849153918]\n",
      "3\n",
      "[0.8747802094786248, 0.9894692559168304, 1.1098179371224837]\n"
     ]
    },
    {
     "data": {
      "image/png": "[encoded data removed]",
      "text/plain": [
       "<Figure size 432x864 with 8 Axes>"
      ]
     },
     "metadata": {},
     "output_type": "display_data"
    }
   ],
   "source": [
    "#Do the same but as model recovery\n",
    "ntrials = 10000\n",
    "f,ax = plt.subplots(len(categorySets),2,figsize=(6,3*len(categorySets)))\n",
    "setparmsPacker = setparms\n",
    "setparmsPacker.pop('negwt',None)\n",
    "for ci,categoriesi in enumerate(categorySets):\n",
    "    print(ci)\n",
    "    categories = [stimuli[np.array(i,dtype=int),:] for i in categoriesi if len(i)>0]\n",
    "    \n",
    "    nps = Packer(categories,setparmsPacker,wrap_ax=None).get_generation_ps(stimuli,1,'generate')\n",
    "\n",
    "    responsesCounts = np.random.multinomial(ntrials,nps)\n",
    "    #Convert counts to array of responses\n",
    "    responses = []\n",
    "    for ri,r in enumerate(responsesCounts):\n",
    "        responses += [ri for i in range(r)]\n",
    "\n",
    "    #Create trial object -- simple one trial for each point across entire distribution\n",
    "    # points = 9**2\n",
    "    # responses = range(points) #See cell above\n",
    "    participants = range(ntrials)\n",
    "    trials = 0\n",
    "    category = 'Beta'\n",
    "    categoriespd = [categoriesi for i in range(ntrials)]\n",
    "\n",
    "    generation = pd.DataFrame({'participant':participants,'stimulus':responses})\n",
    "                              # 'trial':trials,'category':category,'categories':categories})\n",
    "    generation['trial'] = trials\n",
    "    generation['categories'] = categoriespd\n",
    "    generation['category'] = category\n",
    "\n",
    "    #Generate trial set\n",
    "    trials = Simulation.Trialset(stimuli)\n",
    "    trials = trials.add_frame(generation)\n",
    "    trials.task = 'generate'\n",
    "\n",
    "\n",
    "    inits = [1.5,1.5,1.5]#{'specificity':1.5,'theta_cntrst':1.5,'theta_target':1.5}\n",
    "    #Run the fits\n",
    "    res = Simulation.hillclimber(Packer, trials, options,\n",
    "                                 inits=inits, results = False,\n",
    "                                 callbackstyle=None) #can use 'iter','none','.'       \n",
    "    fitparm = res.x\n",
    "    print(fitparm)\n",
    "    # ps = NPacker(categories,setparms,wrap_ax=None).get_generation_ps(stimuli,1,'generate')\n",
    "    \n",
    "    pps = Packer(categories,fitparm,wrap_ax=None).get_generation_ps(stimuli,1,'generate')\n",
    "    ps = [nps,pps]\n",
    "\n",
    "    STAT_LIMS = (-1.0, 1.0)\n",
    "    betacol = ['green' for bi in range(len(categories[1]))]\n",
    "\n",
    "    for i in range(2):\n",
    "        gps = funcs.gradientroll(ps[i],'roll')[:,:,0]\n",
    "        ps_ElRange = gps.max()-gps.min();\n",
    "        plotVals = (gps-gps.min())/ps_ElRange\n",
    "        gammas = []\n",
    "        funcs.plotgradient(ax[ci,i], plotVals, categories[0], categories[1], gammas = gammas,clim = STAT_LIMS, cmap = 'PuOr',beta_col=betacol)\n",
    "#         ax[ci].set_title()\n",
    "        # ax[ci].set_title(catstr[ci])"
   ]
  },
  {
   "cell_type": "code",
   "execution_count": null,
   "metadata": {},
   "outputs": [],
   "source": [
    "#Generate responses from NPacker\n",
    "ntrials = 10000\n",
    "f,ax = plt.subplots(len(categorySets),2,figsize=(6,3*len(categorySets)))\n",
    "for ci,categoriesi in enumerate(categorySets):\n",
    "    print(ci)\n",
    "    categories = [stimuli[np.array(i,dtype=int),:] for i in categoriesi if len(i)>0]\n",
    "    nps = NPacker(categories,setparms,wrap_ax=None).get_generation_ps(stimuli,1,'generate')\n",
    "\n",
    "    responsesCounts = np.random.multinomial(ntrials,nps)\n",
    "    #Convert counts to array of responses\n",
    "    responses = []\n",
    "    for ri,r in enumerate(responsesCounts):\n",
    "        responses += [ri for i in range(r)]\n",
    "\n",
    "    #Create trial object -- simple one trial for each point across entire distribution\n",
    "    # points = 9**2\n",
    "    # responses = range(points) #See cell above\n",
    "    participants = range(ntrials)\n",
    "    trials = 0\n",
    "    category = 'Beta'\n",
    "    categoriespd = [categoriesi for i in range(ntrials)]\n",
    "\n",
    "    generation = pd.DataFrame({'participant':participants,'stimulus':responses})\n",
    "                              # 'trial':trials,'category':category,'categories':categories})\n",
    "    generation['trial'] = trials\n",
    "    generation['categories'] = categoriespd\n",
    "    generation['category'] = category\n",
    "\n",
    "    #Generate trial set\n",
    "    trials = Simulation.Trialset(stimuli)\n",
    "    trials = trials.add_frame(generation)\n",
    "    trials.task = 'generate'\n",
    "\n",
    "\n",
    "    inits = [1.5,1.5,1.5]#{'specificity':1.5,'theta_cntrst':1.5,'theta_target':1.5}\n",
    "    #Run the fits\n",
    "    res = Simulation.hillclimber(Packer, trials, options,\n",
    "                                 inits=inits, results = False,\n",
    "                                 callbackstyle=None) #can use 'iter','none','.'       \n",
    "    fitparm = res.x\n",
    "    print(fitparm)\n",
    "    # ps = NPacker(categories,setparms,wrap_ax=None).get_generation_ps(stimuli,1,'generate')\n",
    "    \n",
    "    pps = Packer(categories,fitparm,wrap_ax=None).get_generation_ps(stimuli,1,'generate')\n",
    "    ps = [nps,pps]\n",
    "\n",
    "    STAT_LIMS = (-1.0, 1.0)\n",
    "    betacol = ['green' for bi in range(len(categories[1]))]\n",
    "\n",
    "    for i in range(2):\n",
    "        gps = funcs.gradientroll(ps[i],'roll')[:,:,0]\n",
    "        ps_ElRange = gps.max()-gps.min();\n",
    "        plotVals = (gps-gps.min())/ps_ElRange\n",
    "        gammas = []\n",
    "        funcs.plotgradient(ax[ci,i], plotVals, categories[0], categories[1], gammas = gammas,clim = STAT_LIMS, cmap = 'PuOr',beta_col=betacol)\n",
    "#         ax[ci].set_title()\n",
    "        # ax[ci].set_title(catstr[ci])"
   ]
  },
  {
   "cell_type": "code",
   "execution_count": 161,
   "metadata": {},
   "outputs": [
    {
     "data": {
      "text/plain": [
       "array([1.58321292e-02, 1.42259166e-02, 1.25402869e-02, 1.02183657e-02,\n",
       "       5.84902255e-03, 1.56700437e-03, 8.37276833e-04, 1.39203449e-03,\n",
       "       4.60721404e-03, 1.42283598e-02, 1.25996786e-02, 1.08138537e-02,\n",
       "       7.51670678e-03, 1.82429498e-03, 5.97887367e-05, 8.03059463e-06,\n",
       "       5.22820545e-05, 1.39203449e-03, 1.60044387e-02, 1.43925936e-02,\n",
       "       1.24842760e-02, 8.05346291e-03, 1.13750095e-03, 9.34915931e-06,\n",
       "       4.94813544e-07, 8.03059463e-06, 8.37276833e-04, 1.77808789e-02,\n",
       "       1.62198341e-02, 1.43970025e-02, 1.03960517e-02, 2.63444187e-03,\n",
       "       8.63401771e-05, 0.00000000e+00, 7.26769965e-05, 1.86159914e-03,\n",
       "       2.20409511e-02, 2.06968141e-02, 1.91783119e-02, 1.65367676e-02,\n",
       "       0.00000000e+00, 2.63444187e-03, 1.38270446e-03, 2.16726006e-03,\n",
       "       6.80938912e-03, 2.32958791e-02, 2.20404046e-02, 2.06837952e-02,\n",
       "       1.90655023e-02, 1.65367676e-02, 1.03960517e-02, 9.56750344e-03,\n",
       "       8.75089485e-03, 1.16855235e-02, 2.44625262e-02, 2.32958428e-02,\n",
       "       2.20397223e-02, 2.06837952e-02, 1.91783119e-02, 1.43970025e-02,\n",
       "       1.45341025e-02, 1.23665120e-02, 1.41165211e-02, 2.55405170e-02,\n",
       "       2.44625253e-02, 2.32958428e-02, 2.20404046e-02, 2.06968141e-02,\n",
       "       1.62198341e-02, 1.64590890e-02, 1.41833780e-02, 1.57927745e-02,\n",
       "       2.65312315e-02, 2.55405170e-02, 2.44625262e-02, 2.32958791e-02,\n",
       "       2.20409511e-02, 1.77808789e-02, 1.80160948e-02, 1.57954868e-02,\n",
       "       1.73614272e-02])"
      ]
     },
     "execution_count": 161,
     "metadata": {},
     "output_type": "execute_result"
    }
   ],
   "source": [
    "nps"
   ]
  },
  {
   "cell_type": "code",
   "execution_count": 4,
   "metadata": {},
   "outputs": [
    {
     "data": {
      "text/plain": [
       "array([ 2.37805703e-04,  2.81169568e-04,  2.37406641e-04,  1.18837263e-04,\n",
       "       -5.45127363e-05, -1.79029484e-04, -1.24037707e-04, -1.22718310e-04,\n",
       "       -1.88757053e-04,  2.81169568e-04,  2.70245412e-04,  1.68236603e-04,\n",
       "        1.31676207e-05, -1.29069667e-04, -2.07965782e-04, -6.73980908e-05,\n",
       "       -7.66868116e-05, -1.22718310e-04,  2.37406641e-04,  1.68236603e-04,\n",
       "        8.16305534e-06, -1.67028499e-04, -2.15503239e-04, -2.10150279e-04,\n",
       "        2.48749989e-05, -6.73980908e-05, -1.24037707e-04,  1.18837263e-04,\n",
       "        1.31676207e-05, -1.67028499e-04, -2.83687099e-04, -5.94684529e-05,\n",
       "        1.19291854e-04,  0.00000000e+00,  3.29635220e-05, -1.42357522e-04,\n",
       "        1.18759840e-04,  2.30321236e-05, -1.25369440e-04, -1.47525755e-04,\n",
       "        0.00000000e+00,  3.67653343e-04,  2.17276703e-04, -1.57688786e-04,\n",
       "       -2.97456321e-04,  1.63437340e-04,  7.99605529e-05, -6.66679580e-05,\n",
       "       -1.28206322e-04,  1.92849738e-04,  0.00000000e+00,  1.11564195e-04,\n",
       "       -1.58157432e-04, -2.62673759e-04,  2.67994368e-04,  2.13606737e-04,\n",
       "        7.49367688e-05, -6.66679580e-05, -5.87741350e-05, -3.38198351e-06,\n",
       "       -1.66234949e-04, -1.89440170e-04, -2.02279073e-04,  3.01856652e-04,\n",
       "        3.01263850e-04,  2.13606737e-04,  7.99605529e-05, -2.82123889e-05,\n",
       "       -7.62745169e-05, -1.89440170e-04, -1.55839380e-04, -1.73515962e-04,\n",
       "        2.51090102e-04,  3.01856652e-04,  2.67994368e-04,  1.63437340e-04,\n",
       "        1.10230184e-05, -9.42947498e-05, -2.02279073e-04, -1.73515962e-04,\n",
       "       -2.20691336e-04])"
      ]
     },
     "execution_count": 4,
     "metadata": {},
     "output_type": "execute_result"
    }
   ],
   "source": [
    "nps-pps"
   ]
  },
  {
   "cell_type": "code",
   "execution_count": null,
   "metadata": {},
   "outputs": [],
   "source": []
  }
 ],
 "metadata": {
  "kernelspec": {
   "display_name": "Python 2",
   "language": "python",
   "name": "python2"
  },
  "language_info": {
   "codemirror_mode": {
    "name": "ipython",
    "version": 2
   },
   "file_extension": ".py",
   "mimetype": "text/x-python",
   "name": "python",
   "nbconvert_exporter": "python",
   "pygments_lexer": "ipython2",
   "version": "2.7.15"
  }
 },
 "nbformat": 4,
 "nbformat_minor": 2
}

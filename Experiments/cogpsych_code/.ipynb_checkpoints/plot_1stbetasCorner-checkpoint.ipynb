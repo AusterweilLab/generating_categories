{
 "cells": [
  {
   "cell_type": "code",
   "execution_count": 30,
   "metadata": {},
   "outputs": [],
   "source": [
    "#Shows each individual plot along with which model best fits it\n",
    "import pickle, math\n",
    "import pandas as pd\n",
    "import sqlite3\n",
    "import random\n",
    "import os\n",
    "import itertools\n",
    "exec(open('Imports.py').read()) #execfile('Imports.py')\n",
    "exec(open('ImportModels.py').read())\n",
    "import Modules.Funcs as funcs\n",
    "# from Modules.Classes import Simulation\n",
    "# from Modules.Classes import CopyTweak\n",
    "# from Modules.Classes import CopyTweakRep\n",
    "# from Modules.Classes import Packer\n",
    "# from Modules.Classes import PackerRep\n",
    "# from Modules.Classes import PackerEuc\n",
    "# from Modules.Classes import ConjugateJK13\n",
    "# from Modules.Classes import RepresentJK13\n",
    "from scipy.stats import stats as ss\n",
    "import numpy as np\n",
    "import matplotlib.pyplot as plt\n",
    "import seaborn as sns\n",
    "sns.set_style(\"whitegrid\")\n",
    "\n",
    "#plotting options\n",
    "STAT_LIMS =  (-1.0, 1.0)\n",
    "#Fit to only last trial?\n",
    "fitlast = False\n",
    "#Make plots?\n",
    "doplots = True\n",
    "saveplots = False\n",
    "if fitlast:\n",
    "    showlast = True\n",
    "else:\n",
    "    showlast = False #True = Show last even if fitting to all?\n",
    "#Bootstrap parameters\n",
    "nbootstraps = 1000\n",
    "\n",
    "# if fitlast and showlast:\n",
    "#     savedir = 'private/individual_modelcomp/fitlast'\n",
    "# elif showlast:\n",
    "#     savedir = 'private/individual_modelcomp/showonlylast/'\n",
    "# elif fitlast:\n",
    "#     savedir = 'private/individual_modelcomp/fitlast'\n",
    "# else:\n",
    "#     savedir = 'private/individual_modelcomp/showall'\n",
    "\n",
    "# savefilename='modelvsppt{}_t.pdf'.format(corrtype)\n",
    "# modeleaseDB = \"pickles/modelease_corr{}.p\".format(corrtype)\n",
    "\n",
    "#Some plotting options\n",
    "font = {'family' : 'DejaVu Sans',\n",
    "        'weight' : 'regular',\n",
    "        'size'   : 15}\n",
    "\n",
    "#Specify simulation values\n",
    "N_SAMPLES = 10000\n",
    "WT_THETA = 1.5\n",
    "MIN_LL = 1e-10\n",
    "\n",
    "# Specify default dataname\n",
    "dbname = 'experiments-5con.db'#'experiments-5con.db'#raw data\n",
    "dataname_def = '5con'#'5con'#bestparms comes from here\n",
    "\n",
    "# Specify default dataname\n",
    "# dataname_def = 'pooled'#'nosofsky1986'#'NGPMG1994'\n",
    "participant_def = 'all'\n",
    "unique_trials_def = 'all'\n",
    "dataname = dataname_def\n",
    "execfile('validate_data.py')\n",
    "\n",
    "bestparmdb = \"pickles/chtc_gs_best_params_{}\".format(src)\n",
    "\n",
    "\n",
    "plt.rc('font', **font)\n",
    "\n",
    "# get data from pickle\n",
    "with open(pickledir+src, \"rb\" ) as f:\n",
    "    trials = pickle.load( f )\n",
    "\n",
    "# get best params pickle\n",
    "#bestparmdb = \"pickles/chtc_gs_best_params_all_data_e1_e2.p\"\n",
    "#bestparmdb = \"pickles/chtc_gs_best_params_corrs.p\"\n",
    "with open(bestparmdb, \"rb\" ) as f:\n",
    "    best_params_t = pickle.load( f )\n",
    "\n",
    "#Rebuild it into a smaller dict\n",
    "best_params = dict()\n",
    "for modelname in best_params_t.keys():    \n",
    "    best_params[modelname] = dict()\n",
    "    for i,parmname in enumerate(best_params_t[modelname]['parmnames']):\n",
    "        parmval = best_params_t[modelname]['bestparmsll']\n",
    "        best_params[modelname][parmname] = parmval[i]\n",
    "modelList = [Packer,RepresentJK13]\n",
    "#modelList = [CopyTweak,CopyTweakRep,Packer, RepresentJK13,]                            \n",
    "\n",
    "#Specify plot order\n",
    "modelPlotOrder = np.array([[Packer,RepresentJK13],[CopyTweak,ConjugateJK13]])\n",
    "#modelPlotOrder = np.array([[CopyTweak,CopyTweakRep],[Packer,RepresentJK13]])\n",
    "\n",
    "#Prepare matched database    \n",
    "# matchdb='../cat-assign/data_utilities/cmp_midbot.db'\n",
    "        \n",
    "unique_trials = 'all'\n",
    "trials.task = task\n",
    "\n",
    "\n"
   ]
  },
  {
   "cell_type": "code",
   "execution_count": 31,
   "metadata": {},
   "outputs": [],
   "source": [
    "#Create new trialset\n",
    "con = sqlite3.connect(dbname)\n",
    "participants = pd.read_sql_query(\"SELECT participant, condition from participants\", con)\n",
    "generation = pd.read_sql_query(\"SELECT * from generation\", con)\n",
    "alphas = pd.read_sql_query(\"SELECT * from alphas\", con)\n",
    "stimuli = pd.read_sql_query(\"SELECT * from stimuli\", con).values\n",
    "con.close()\n",
    "\n",
    "# create categories mapping                                                                             \n",
    "mapping = pd.DataFrame(columns = ['condition', 'categories'])\n",
    "for i in alphas.columns:\n",
    "    As = alphas[i].values.flatten()\n",
    "    mapping = mapping.append(\n",
    "        dict(condition = i, categories =[As]),\n",
    "        ignore_index = True\n",
    "    )\n",
    "\n",
    "# merge categories into generation                                                                      \n",
    "generation = pd.merge(generation, participants, on='participant')\n",
    "generation = pd.merge(generation, mapping, on='condition')\n",
    "#conditions = alphas.columns.values\n",
    "conditions = ['Corner_S','Corner_C']\n",
    "#Select only one participant\n",
    "def generateOnePerm(condition,generation,stimuli):\n",
    "#     genppt = generation.loc[generation.participant==ppt]\n",
    "#     if order is None:\n",
    "#         order = genppt.trial\n",
    "#     if betas is None:\n",
    "#         betas = genppt.stimulus\n",
    "#     minlength = 1#min(len(order),len(betas))\n",
    "#     while len(genppt)<minlength:\n",
    "#         temprow = genppt.iloc[0]\n",
    "#         genppt = genppt.append({'participant':temprow.participant,'stimulus':temprow.stimulus,'trial':max(genppt.trial)+1,'condition':temprow.condition,'categories':temprow.categories},ignore_index=True)\n",
    "#     if alphas is None:\n",
    "#         categories = genppt.categories\n",
    "#     else:\n",
    "#         categories = [[alphas] for i in range(minlength)]\n",
    "#     #Extract only as much as the minimum specified order or beta allows\n",
    "#     genppt = genppt[0:minlength]\n",
    "#     genppt.trial = []#order[0:minlength]\n",
    "#     genppt.stimulus = []#betas[0:minlength]\n",
    "#     genppt.categories = categories[0:minlength]\n",
    "\n",
    "    #Generate only the first trial no betas\n",
    "    genppts = generation.loc[(generation.condition==condition)&(generation.trial==0)]\n",
    "    genppt = genppts.iloc[0:1]\n",
    "    # create trial set object                                                                               \n",
    "    trials = Simulation.Trialset(stimuli)\n",
    "    trials = trials.add_frame(genppt)\n",
    "    trials.task = 'generate'\n",
    "    trials._update\n",
    "    return trials"
   ]
  },
  {
   "cell_type": "code",
   "execution_count": 32,
   "metadata": {
    "scrolled": false
   },
   "outputs": [
    {
     "data": {
      "text/html": [
       "<div>\n",
       "<style scoped>\n",
       "    .dataframe tbody tr th:only-of-type {\n",
       "        vertical-align: middle;\n",
       "    }\n",
       "\n",
       "    .dataframe tbody tr th {\n",
       "        vertical-align: top;\n",
       "    }\n",
       "\n",
       "    .dataframe thead th {\n",
       "        text-align: right;\n",
       "    }\n",
       "</style>\n",
       "<table border=\"1\" class=\"dataframe\">\n",
       "  <thead>\n",
       "    <tr style=\"text-align: right;\">\n",
       "      <th></th>\n",
       "      <th>category</th>\n",
       "      <th>participant</th>\n",
       "      <th>stimulus</th>\n",
       "      <th>trial</th>\n",
       "      <th>wrap_ax</th>\n",
       "      <th>condition</th>\n",
       "      <th>categories</th>\n",
       "    </tr>\n",
       "  </thead>\n",
       "  <tbody>\n",
       "    <tr>\n",
       "      <th>1405</th>\n",
       "      <td>Beta</td>\n",
       "      <td>306</td>\n",
       "      <td>57</td>\n",
       "      <td>0</td>\n",
       "      <td>1.0</td>\n",
       "      <td>Corner_C</td>\n",
       "      <td>[[0, 8, 72, 80]]</td>\n",
       "    </tr>\n",
       "  </tbody>\n",
       "</table>\n",
       "</div>"
      ],
      "text/plain": [
       "     category  participant  stimulus  trial  wrap_ax condition  \\\n",
       "1405     Beta          306        57      0      1.0  Corner_C   \n",
       "\n",
       "            categories  \n",
       "1405  [[0, 8, 72, 80]]  "
      ]
     },
     "execution_count": 32,
     "metadata": {},
     "output_type": "execute_result"
    }
   ],
   "source": [
    "temp = generation.loc[(generation.trial==0)&(generation.condition=='Corner_C')]\n",
    "temp.iloc[0:1]"
   ]
  },
  {
   "cell_type": "code",
   "execution_count": 33,
   "metadata": {},
   "outputs": [
    {
     "data": {
      "text/plain": [
       "1.0"
      ]
     },
     "execution_count": 33,
     "metadata": {},
     "output_type": "execute_result"
    }
   ],
   "source": [
    "generation.loc[generation.condition=='Corner_C'].wrap_ax.values[0]"
   ]
  },
  {
   "cell_type": "code",
   "execution_count": 34,
   "metadata": {
    "scrolled": true
   },
   "outputs": [
    {
     "name": "stdout",
     "output_type": "stream",
     "text": [
      "  condition          categories\n",
      "0   Cluster  [[14, 16, 32, 34]]\n",
      "1       Row  [[10, 12, 14, 16]]\n",
      "2       XOR   [[0, 10, 70, 80]]\n",
      "3    Bottom  [[12, 14, 30, 32]]\n",
      "4    Middle  [[30, 32, 48, 50]]\n",
      "5  Corner_C    [[0, 8, 72, 80]]\n",
      "6  Corner_S    [[0, 8, 72, 80]]\n"
     ]
    }
   ],
   "source": [
    "#Get each alpha set\n",
    "print(mapping)"
   ]
  },
  {
   "cell_type": "code",
   "execution_count": 35,
   "metadata": {
    "scrolled": true
   },
   "outputs": [
    {
     "data": {
      "image/png": "[encoded data removed]",
      "text/plain": [
       "<Figure size 432x144 with 4 Axes>"
      ]
     },
     "metadata": {},
     "output_type": "display_data"
    },
    {
     "data": {
      "image/png": "[encoded data removed]",
      "text/plain": [
       "<Figure size 432x144 with 4 Axes>"
      ]
     },
     "metadata": {},
     "output_type": "display_data"
    }
   ],
   "source": [
    "vals = np.linspace(-1, 1, 200).tolist()\n",
    "space = np.fliplr(funcs.cartesian([vals, vals]))\n",
    "stimstep = [vals[1]-vals[0],vals[1]-vals[0]]\n",
    "lp = 60#80\n",
    "fs = 10\n",
    "nmodels = len(modelList)\n",
    "nconditions = len(conditions)\n",
    "adjplot = 1\n",
    "\n",
    "# cond_labs = ['Squares','Circles']\n",
    "plot_pre = ['(a)','(b)','(c)']\n",
    "\n",
    "#Plot model predictions\n",
    "for ci,condition in enumerate(conditions):\n",
    "    f,ax = plt.subplots(1,nmodels+adjplot,figsize = (3*nmodels, 2))\n",
    "    \n",
    "    if ci==0:\n",
    "        #Plot blank condition\n",
    "        blankA = [0,8,72,80]\n",
    "        funcs.plotclasses(ax[0], stimuli, blankA, [])\n",
    "        ax[0].set_title('(a) Corner',fontsize=fs)\n",
    "        #         ax[0].text(-2,1.5,'(a)',fontsize=fs+4)\n",
    "        # ax[0,1].text(-150,220,'(b)',fontsize=fs+4)\n",
    "        #         ax[1].set_title('(b)',fontsize=fs+4)\n",
    "    else:\n",
    "        funcs.plotclasses(ax[0], stimuli, [], [])    \n",
    "        ax[0].set_title('(a) Stimulus Space',fontsize=fs)\n",
    "\n",
    "\n",
    "    B = []\n",
    "    ps = []\n",
    "    ll_trial = []\n",
    "    trialppt = generateOnePerm(condition,generation,stimuli)\n",
    "    wrap_ax = generation.loc[(generation.trial==0)&(generation.condition==condition)][0:1].wrap_ax.values[0]\n",
    "    if np.isnan(wrap_ax):\n",
    "        wrap_ax = None\n",
    "    for m,model in enumerate(modelList):        \n",
    "\n",
    "        if len(ax.shape)>1:\n",
    "            ax[0,m+adjplot].set_title('{} {}'.format(plot_pre[m+adjplot],model.modelshort),fontsize=fs)\n",
    "#             ax[ci,adjplot].set_ylabel('{}'.format(cond_labs[ci]),rotation=0,labelpad=lp,fontsize=fs)\n",
    "        else:                    \n",
    "            ax[m+adjplot].set_title('{} {}'.format(plot_pre[m+adjplot],model.modelshort),fontsize=fs)\n",
    "        \n",
    "        if model is PackerEuc: #Gotta do this because I haven't fit PackerEuc to all data yet\n",
    "            params = best_params[Packer.model]\n",
    "        else:\n",
    "            params = best_params[model.model]\n",
    "        #Plot heatmap for each model\n",
    "        categories = [trialppt.stimuli[i,:] for i in trialppt.Set[0]['categories'] if len(i)>0]\n",
    "        ps += [model(categories,params,trialppt.stimrange,stimstep=stimstep,wrap_ax=wrap_ax).get_generation_ps(space,1,'generate')]\n",
    "        #Get lls for each trial step\n",
    "        ll_trial += [trialppt.loglike(params=params,model=model,parmxform=False,whole_array=True)]\n",
    "\n",
    "#     Ai = alphas[condition].values.flatten()\n",
    "    A = categories[0]\n",
    "    #Plot the individual plots\n",
    "    plotct = 0\n",
    "    plotVals = []\n",
    "    psMax = 0\n",
    "    psMin = 1\n",
    "    #Get range                                                                                                                                     \n",
    "    for ps_el in ps:\n",
    "        psMax = max(psMax,ps_el.max())\n",
    "        psMin = min(psMin,ps_el.min())\n",
    "\n",
    "    #Normalise all values                                                                                                                          \n",
    "    psRange = psMax-psMin\n",
    "    for i,ps_el in enumerate(ps): #each ps element correspond to a model\n",
    "        plotct += 1\n",
    "        gps = funcs.gradientroll(ps_el,'roll')[:,:,0]\n",
    "#         plotVals += [gps]\n",
    "        ps_ElRange = gps.max()-gps.min();\n",
    "        plotVals += [(gps-gps.min())/ps_ElRange]  #Change ps_ElRange to psRange to normalize across all models                                                                           \n",
    "        #Adjust Alphas for XOR and Corner for clarity of presentation\n",
    "        if condition=='XOR':\n",
    "            A = [[-.9,-.9],[-.65,-.65],[.65,.65],[.9,.9]]\n",
    "        elif condition[:6]=='Corner':\n",
    "            A = [[-.9,-.9],[-.9,.9],[.9,-.9],[.9,.9]]\n",
    "\n",
    "        if len(ax.shape)>1:\n",
    "            im = funcs.plotgradient(ax[ci,i+adjplot], plotVals[i], A, [], cmap = 'Blues',alpha_col='red')\n",
    "        else:\n",
    "            im = funcs.plotgradient(ax[i+adjplot], plotVals[i], A, [], cmap = 'Blues',alpha_col='red')\n",
    "    #                     ax[i].set_ylabel('Trial {}'.format(trial))\n",
    "\n",
    "\n",
    "\n",
    "    # plt.subplots_adjust(left=1)\n",
    "    #Remove axes for unused plots\n",
    "    # unusedax = [[1,0]]#[[0,1],[1,0],[1,1]]\n",
    "    # for x,y in unusedax:\n",
    "    #     ax[x,y].axis('off')\n",
    "\n",
    "    # add colorbar\n",
    "    f.subplots_adjust(right=0.8)\n",
    "    cbar = f.add_axes([0.83, 0.16, 0.03, 0.66])\n",
    "    f.colorbar(im, cax=cbar, ticks = [0, 1])\n",
    "    cbar.set_yticklabels(['Lowest\\nProbability', 'Greatest\\nProbability'],fontsize=fs)\n",
    "    cbar.tick_params(length = 0)\n",
    "\n",
    "    #Save fig\n",
    "    if saveplots:\n",
    "        plt.savefig('private/firstbetas_corner{}.pdf'.format(condition),bbox_inches='tight')\n",
    "    \n",
    "\n",
    "\n",
    "\n",
    "\n",
    "#     savedirext = '{}/{}'.format(savedir,bestmodelstr)\n",
    "#     if os.path.isdir(savedirext):\n",
    "#         plt.savefig('{}/{}_{}_{}'.format(savedirext,pptconstr,int(ppt),bestmodelstr[0]))\n",
    "#     else:\n",
    "#         os.mkdir(savedirext)\n",
    "#         plt.savefig('{}/{}_{}_{}'.format(savedirext,pptconstr,int(ppt),bestmodelstr[0]))"
   ]
  },
  {
   "cell_type": "code",
   "execution_count": 36,
   "metadata": {},
   "outputs": [
    {
     "data": {
      "text/plain": [
       "[array([[0.        , 0.00061179, 0.00122098, ..., 0.00122098, 0.00061179,\n",
       "         0.        ],\n",
       "        [0.00248445, 0.00310997, 0.00373284, ..., 0.00373284, 0.00310997,\n",
       "         0.00248445],\n",
       "        [0.00502462, 0.00566414, 0.00630094, ..., 0.00630094, 0.00566414,\n",
       "         0.00502462],\n",
       "        ...,\n",
       "        [0.00502462, 0.00566414, 0.00630094, ..., 0.00630094, 0.00566414,\n",
       "         0.00502462],\n",
       "        [0.00248445, 0.00310997, 0.00373284, ..., 0.00373284, 0.00310997,\n",
       "         0.00248445],\n",
       "        [0.        , 0.00061179, 0.00122098, ..., 0.00122098, 0.00061179,\n",
       "         0.        ]]),\n",
       " array([[0.13724022, 0.13300431, 0.12889085, ..., 0.12889085, 0.13300431,\n",
       "         0.13724022],\n",
       "        [0.13737011, 0.13313172, 0.12901585, ..., 0.12901585, 0.13313172,\n",
       "         0.13737011],\n",
       "        [0.13763007, 0.13338672, 0.12926603, ..., 0.12926603, 0.13338672,\n",
       "         0.13763007],\n",
       "        ...,\n",
       "        [0.13763007, 0.13338672, 0.12926603, ..., 0.12926603, 0.13338672,\n",
       "         0.13763007],\n",
       "        [0.13737011, 0.13313172, 0.12901585, ..., 0.12901585, 0.13313172,\n",
       "         0.13737011],\n",
       "        [0.13724022, 0.13300431, 0.12889085, ..., 0.12889085, 0.13300431,\n",
       "         0.13724022]])]"
      ]
     },
     "execution_count": 36,
     "metadata": {},
     "output_type": "execute_result"
    }
   ],
   "source": [
    "plotVals"
   ]
  },
  {
   "cell_type": "code",
   "execution_count": 29,
   "metadata": {},
   "outputs": [
    {
     "name": "stdout",
     "output_type": "stream",
     "text": [
      "[array([[-0.25, -0.25],\n",
      "       [ 0.25, -0.25],\n",
      "       [-0.25,  0.25],\n",
      "       [ 0.25,  0.25]])]\n"
     ]
    },
    {
     "ename": "ValueError",
     "evalue": "too many values to unpack",
     "output_type": "error",
     "traceback": [
      "\u001b[0;31m-----------------------------------------------------------------\u001b[0m",
      "\u001b[0;31mValueError\u001b[0m                      Traceback (most recent call last)",
      "\u001b[0;32m<ipython-input-29-2f2a27bd4ea2>\u001b[0m in \u001b[0;36m<module>\u001b[0;34m()\u001b[0m\n\u001b[1;32m     12\u001b[0m \u001b[0;32mprint\u001b[0m\u001b[0;34m(\u001b[0m\u001b[0mcategories\u001b[0m\u001b[0;34m)\u001b[0m\u001b[0;34m\u001b[0m\u001b[0m\n\u001b[1;32m     13\u001b[0m \u001b[0;34m\u001b[0m\u001b[0m\n\u001b[0;32m---> 14\u001b[0;31m \u001b[0;34m(\u001b[0m\u001b[0mps\u001b[0m\u001b[0;34m,\u001b[0m\u001b[0mla1\u001b[0m\u001b[0;34m,\u001b[0m\u001b[0mlb1\u001b[0m\u001b[0;34m,\u001b[0m\u001b[0msb\u001b[0m\u001b[0;34m,\u001b[0m\u001b[0msa\u001b[0m\u001b[0;34m)\u001b[0m \u001b[0;34m=\u001b[0m \u001b[0mRepresentJK13\u001b[0m\u001b[0;34m(\u001b[0m\u001b[0mcategories\u001b[0m\u001b[0;34m,\u001b[0m\u001b[0mbest_params\u001b[0m\u001b[0;34m[\u001b[0m\u001b[0mRepresentJK13\u001b[0m\u001b[0;34m.\u001b[0m\u001b[0mmodel\u001b[0m\u001b[0;34m]\u001b[0m\u001b[0;34m,\u001b[0m\u001b[0mtrialppt\u001b[0m\u001b[0;34m.\u001b[0m\u001b[0mstimrange\u001b[0m\u001b[0;34m)\u001b[0m\u001b[0;34m.\u001b[0m\u001b[0mget_generation_ps\u001b[0m\u001b[0;34m(\u001b[0m\u001b[0mspace\u001b[0m\u001b[0;34m,\u001b[0m\u001b[0;36m1\u001b[0m\u001b[0;34m,\u001b[0m\u001b[0;34m'generate'\u001b[0m\u001b[0;34m)\u001b[0m\u001b[0;34m\u001b[0m\u001b[0m\n\u001b[0m\u001b[1;32m     15\u001b[0m \u001b[0mps\u001b[0m \u001b[0;34m=\u001b[0m \u001b[0mps\u001b[0m\u001b[0;34m[\u001b[0m\u001b[0;34m-\u001b[0m\u001b[0;36m200\u001b[0m\u001b[0;34m:\u001b[0m\u001b[0;34m-\u001b[0m\u001b[0;36m1\u001b[0m\u001b[0;34m]\u001b[0m\u001b[0;34m\u001b[0m\u001b[0m\n\u001b[1;32m     16\u001b[0m \u001b[0;31m# ps = ps-min(ps)\u001b[0m\u001b[0;34m\u001b[0m\u001b[0;34m\u001b[0m\u001b[0m\n",
      "\u001b[0;31mValueError\u001b[0m: too many values to unpack"
     ]
    }
   ],
   "source": [
    "# categories = [[-1,-1],\n",
    "#               [-.75,-.75],\n",
    "#               [.75,.75],\n",
    "#               [1,1]]\n",
    "# categories = [[[-1,-1],\n",
    "#               [-1,1],\n",
    "#               [1,-1],\n",
    "#               [1,1]]]\n",
    "condition='Middle'\n",
    "trialppt = generateOnePerm(condition,generation,stimuli)\n",
    "categories = [trialppt.stimuli[i,:] for i in trialppt.Set[0]['categories'] if len(i)>0]\n",
    "print(categories)\n",
    "\n",
    "(ps,la1,lb1,sb,sa) = RepresentJK13(categories,best_params[RepresentJK13.model],trialppt.stimrange).get_generation_ps(space,1,'generate')\n",
    "ps = ps[-200:-1]\n",
    "# ps = ps-min(ps)\n",
    "# ps = ps/max(ps)\n",
    "\n",
    "la1 = la1[-200:-1]\n",
    "# la = la-min(la)\n",
    "# la = la/max(la)\n",
    "lb1 = lb1[-200:-1]\n",
    "# lb = lb-min(lb)\n",
    "# lb = lb/max(lb)\n",
    "\n",
    "f,ax = plt.subplots(1,3,figsize = (10,4))\n",
    "ax[0].plot(ps)\n",
    "ax[1].plot(la1)\n",
    "ax[1].plot(lb1)\n",
    "# ax[2].plot(la-lb)\n",
    "# ax[2].plot(-np.log(la/lb))\n",
    "ax[2].plot(np.log(lb1/la1))\n",
    "ax[1].legend(['Alpha','Beta'])\n"
   ]
  },
  {
   "cell_type": "code",
   "execution_count": null,
   "metadata": {},
   "outputs": [],
   "source": [
    "# categories = [[-1,-1],\n",
    "#               [-.75,-.75],\n",
    "#               [.75,.75],\n",
    "#               [1,1]]\n",
    "categories = [[[-1,-1],\n",
    "              [-1,1],\n",
    "              [1,-1],\n",
    "              [1,1]],[[0,0],[0,0],[0,0],[0,0]]]\n",
    "# condition='XOR'\n",
    "# trialppt = generateOnePerm(condition,generation,stimuli)\n",
    "# categories = [trialppt.stimuli[i,:] for i in trialppt.Set[0]['categories'] if len(i)>0]\n",
    "# print(categories)\n",
    "\n",
    "(ps,la2,lb2,sb,sa) = RepresentJK13(categories,best_params[RepresentJK13.model],trialppt.stimrange).get_generation_ps(space,1,'generate')\n",
    "ps = ps[-200:-1]\n",
    "# ps = ps-min(ps)\n",
    "# ps = ps/max(ps)\n",
    "la2a = la2\n",
    "la2 = la2[-200:-1]\n",
    "# la = la-min(la)\n",
    "# la = la/max(la)\n",
    "lb2 = lb2[-200:-1]\n",
    "# lb = lb-min(lb)\n",
    "# lb = lb/max(lb)\n",
    "\n",
    "f,ax = plt.subplots(1,3,figsize = (10,4))\n",
    "ax[0].plot(ps)\n",
    "ax[1].plot(la2)\n",
    "ax[1].plot(lb2)\n",
    "# ax[2].plot(la-lb)\n",
    "# ax[2].plot(-np.log(la/lb))\n",
    "ax[2].plot(np.log(lb2/la2))\n",
    "ax[1].legend(['Alpha','Beta'])\n",
    "\n",
    "# ax[1].plot(la1)\n",
    "ax[1].plot(la2a[-20000:-19800])"
   ]
  },
  {
   "cell_type": "code",
   "execution_count": null,
   "metadata": {},
   "outputs": [],
   "source": [
    "best_params['temp'] = best_params[RepresentJK13.model].copy()\n",
    "best_params['temp']['domain_variance_bias'] = 1"
   ]
  },
  {
   "cell_type": "code",
   "execution_count": null,
   "metadata": {},
   "outputs": [],
   "source": [
    "sa"
   ]
  },
  {
   "cell_type": "code",
   "execution_count": null,
   "metadata": {},
   "outputs": [],
   "source": [
    "sb"
   ]
  },
  {
   "cell_type": "code",
   "execution_count": null,
   "metadata": {},
   "outputs": [],
   "source": [
    "ps"
   ]
  },
  {
   "cell_type": "code",
   "execution_count": null,
   "metadata": {},
   "outputs": [],
   "source": [
    "best_params[RepresentJK13.model]"
   ]
  },
  {
   "cell_type": "code",
   "execution_count": 28,
   "metadata": {},
   "outputs": [
    {
     "data": {
      "text/plain": [
       "-0.9899497487437185"
      ]
     },
     "execution_count": 28,
     "metadata": {},
     "output_type": "execute_result"
    }
   ],
   "source": [
    "vals[1]"
   ]
  }
 ],
 "metadata": {
  "kernelspec": {
   "display_name": "Python 2",
   "language": "python",
   "name": "python2"
  },
  "language_info": {
   "codemirror_mode": {
    "name": "ipython",
    "version": 2
   },
   "file_extension": ".py",
   "mimetype": "text/x-python",
   "name": "python",
   "nbconvert_exporter": "python",
   "pygments_lexer": "ipython2",
   "version": "2.7.16"
  }
 },
 "nbformat": 4,
 "nbformat_minor": 2
}

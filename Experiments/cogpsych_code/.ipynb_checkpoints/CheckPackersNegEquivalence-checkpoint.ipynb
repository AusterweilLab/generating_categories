{
 "cells": [
  {
   "cell_type": "code",
   "execution_count": 61,
   "metadata": {},
   "outputs": [],
   "source": [
    "#A script comparing whether the PACKER and NPacker models are identical.\n",
    "\n",
    "\n",
    "#First, generate predictions using some parm values\n",
    "\n",
    "#A replacement for execfile if using python 3?\n",
    "exec(open(\"Imports.py\").read())\n",
    "exec(open(\"ImportModels.py\").read())\n",
    "\n",
    "import pickle\n",
    "import sqlite3\n",
    "import numpy as np\n",
    "import pandas as pd\n",
    "import matplotlib.pyplot as plt\n",
    "\n",
    "\n",
    "import Modules.Funcs as funcs\n",
    "\n",
    "dbname = 'experiments-5con.db'#raw data\n",
    "# dataname = 'xcrABC' #for parms\n",
    "# exec(open('validate_data.py').read())\n",
    "\n",
    "con = sqlite3.connect(dbname)\n",
    "# participants = pd.read_sql_query(\"SELECT participant, condition from participants\", con)\n",
    "# generation = pd.read_sql_query(\"SELECT * from generation\", con)\n",
    "alphas = pd.read_sql_query(\"SELECT * from alphas\", con)\n",
    "stimuli = pd.read_sql_query(\"SELECT * from stimuli\", con).values\n",
    "con.close()\n",
    "\n",
    "\n",
    "\n",
    "setparms = {'negwt':.5,'specificity':1,'theta_cntrst':1,'theta_target':1}\n",
    "c1 = np.array([[-1.,-1.],[1.,-1.],[-1.,1.],[1.,1.]])\n",
    "# c1 = np.array([[1.,1],[.75,1]])\n",
    "c1 = np.array([[-.75,-.75],[-.75,-.5],[-.5,-.75],[-.5,-.5]])\n",
    "\n",
    "c2 = np.array([[.25,.25],[.5,.5]])#,[-.25,-.5],[1,-1]])\n",
    "# c3 = np.array([[0,0]])\n",
    "# categories = [c1,c2]\n",
    "\n",
    "categoriesi = [[14, 16, 32, 34],[70,65]] #similar to cluster with a couple of betas\n",
    "categories = [stimuli[np.array(i,dtype=int),:] for i in categoriesi if len(i)>0]"
   ]
  },
  {
   "cell_type": "code",
   "execution_count": 108,
   "metadata": {},
   "outputs": [],
   "source": [
    "nps = Packer(categories,{'specificity':1,'theta_cntrst':1,'theta_target':1},wrap_ax=None).get_generation_ps(stimuli,1,'generate')"
   ]
  },
  {
   "cell_type": "code",
   "execution_count": 90,
   "metadata": {},
   "outputs": [],
   "source": [
    "nps = NPacker(categories,setparms,wrap_ax=None).get_generation_ps(stimuli,1,'generate')\n"
   ]
  },
  {
   "cell_type": "code",
   "execution_count": 109,
   "metadata": {},
   "outputs": [],
   "source": [
    "#Generate responses from NPacker\n",
    "ntrials = 10000\n",
    "responsesCounts = np.random.multinomial(ntrials,nps)\n",
    "#Convert counts to array of responses\n",
    "responses = []\n",
    "for ri,r in enumerate(responsesCounts):\n",
    "    responses += [ri for i in range(r)]"
   ]
  },
  {
   "cell_type": "code",
   "execution_count": 110,
   "metadata": {},
   "outputs": [],
   "source": [
    "#Create trial object -- simple one trial for each point across entire distribution\n",
    "# points = 9**2\n",
    "# responses = range(points) #See cell above\n",
    "participants = range(ntrials)\n",
    "trials = 0\n",
    "category = 'Beta'\n",
    "categoriespd = [categoriesi for i in range(ntrials)]\n",
    "\n",
    "generation = pd.DataFrame({'participant':participants,'stimulus':responses})\n",
    "                          # 'trial':trials,'category':category,'categories':categories})\n",
    "generation['trial'] = trials\n",
    "generation['categories'] = categoriespd\n",
    "generation['category'] = category\n",
    "\n",
    "#Generate trial set\n",
    "trials = Simulation.Trialset(stimuli)\n",
    "trials = trials.add_frame(generation)\n",
    "trials.task = 'generate'"
   ]
  },
  {
   "cell_type": "code",
   "execution_count": 104,
   "metadata": {},
   "outputs": [
    {
     "data": {
      "text/plain": [
       "[{'categories': [array([14, 16, 32, 34]), array([65, 70])],\n",
       "  'participant': [array([], dtype=int64),\n",
       "   array([   0,    1,    2, ..., 9997, 9998, 9999])],\n",
       "  'response': [array([], dtype=int64), array([ 0,  0,  0, ..., 80, 80, 80])],\n",
       "  'wrap_ax': [array([], dtype=int64),\n",
       "   array([None, None, None, ..., None, None, None], dtype=object)]}]"
      ]
     },
     "execution_count": 104,
     "metadata": {},
     "output_type": "execute_result"
    }
   ],
   "source": [
    "trials.Set"
   ]
  },
  {
   "cell_type": "code",
   "execution_count": 112,
   "metadata": {
    "scrolled": true
   },
   "outputs": [
    {
     "name": "stdout",
     "output_type": "stream",
     "text": [
      "Fitting: PACKER\n",
      "\t[1.5307, 1.4404, 1.5307] f(x) = 41627.137\n",
      "\t[1.5307, 1.4404, 1.5307] f(x) = 41627.137\n",
      "\t[1.5102, 1.402, 1.5204] f(x) = 41567.08\n",
      "\t[1.5833, 1.3104, 1.5411] f(x) = 41474.8449\n",
      "\t[1.5833, 1.3104, 1.5411] f(x) = 41474.8449\n",
      "\t[1.5727, 1.1603, 1.5727] f(x) = 41349.2454\n",
      "\t[1.5727, 1.1603, 1.5727] f(x) = 41349.2454\n",
      "\t[1.7017, 1.0, 1.5727] f(x) = 41261.4373\n",
      "\t[1.6813, 0.9138, 1.6267] f(x) = 41259.7313\n",
      "\t[1.7081, 0.8313, 1.5621] f(x) = 41219.2884\n",
      "\t[1.7081, 0.8313, 1.5621] f(x) = 41219.2884\n",
      "\t[1.7081, 0.8313, 1.5621] f(x) = 41219.2884\n",
      "\t[1.7081, 0.8313, 1.5621] f(x) = 41219.2884\n",
      "\t[1.7944, 0.871, 1.4832] f(x) = 41194.4995\n",
      "\t[1.7944, 0.871, 1.4832] f(x) = 41194.4995\n",
      "\t[1.7476, 0.8322, 1.4136] f(x) = 41164.4855\n",
      "\t[1.7476, 0.8322, 1.4136] f(x) = 41164.4855\n",
      "\t[1.8571, 0.9942, 1.2223] f(x) = 41125.8606\n",
      "\t[1.7415, 1.0339, 1.1173] f(x) = 41101.2538\n",
      "\t[1.8932, 0.9518, 0.954] f(x) = 41084.9586\n",
      "\t[1.8932, 0.9518, 0.954] f(x) = 41084.9586\n",
      "\t[1.8932, 0.9518, 0.954] f(x) = 41084.9586\n",
      "\t[1.7366, 0.8977, 1.0319] f(x) = 41078.8495\n",
      "\t[1.7366, 0.8977, 1.0319] f(x) = 41078.8495\n",
      "\t[1.821, 1.0296, 0.872] f(x) = 41078.3588\n",
      "\t[1.5715, 1.0289, 0.9961] f(x) = 41067.6406\n",
      "\t[1.5662, 0.9351, 0.8828] f(x) = 41057.3735\n",
      "\t[1.5662, 0.9351, 0.8828] f(x) = 41057.3735\n",
      "\t[1.1619, 1.0047, 0.9389] f(x) = 41033.0986\n",
      "\t[1.1619, 1.0047, 0.9389] f(x) = 41033.0986\n",
      "\t[1.1619, 1.0047, 0.9389] f(x) = 41033.0986\n",
      "\t[1.1619, 1.0047, 0.9389] f(x) = 41033.0986\n",
      "\t[1.1619, 1.0047, 0.9389] f(x) = 41033.0986\n",
      "\t[0.8479, 1.0557, 1.0184] f(x) = 41027.6925\n",
      "\t[0.8479, 1.0557, 1.0184] f(x) = 41027.6925\n",
      "\t[0.8479, 1.0557, 1.0184] f(x) = 41027.6925\n",
      "\t[0.8479, 1.0557, 1.0184] f(x) = 41027.6925\n",
      "\t[0.8479, 1.0557, 1.0184] f(x) = 41027.6925\n",
      "\t[0.8479, 1.0557, 1.0184] f(x) = 41027.6925\n",
      "\t[0.8479, 1.0557, 1.0184] f(x) = 41027.6925\n",
      "\t[0.8084, 1.08, 1.0636] f(x) = 41026.6088\n",
      "\t[0.8084, 1.08, 1.0636] f(x) = 41026.6088\n",
      "\t[0.9197, 1.0427, 1.0385] f(x) = 41026.5432\n",
      "\t[0.9197, 1.0427, 1.0385] f(x) = 41026.5432\n",
      "\t[0.9197, 1.0427, 1.0385] f(x) = 41026.5432\n",
      "\t[0.9197, 1.0427, 1.0385] f(x) = 41026.5432\n",
      "\t[0.8259, 1.0632, 1.1075] f(x) = 41025.967\n",
      "\t[0.8259, 1.0632, 1.1075] f(x) = 41025.967\n",
      "\t[0.8259, 1.0632, 1.1075] f(x) = 41025.967\n",
      "\t[0.8259, 1.0632, 1.1075] f(x) = 41025.967\n",
      "\t[0.8397, 1.0693, 1.0914] f(x) = 41025.8927\n",
      "\t[0.8397, 1.0693, 1.0914] f(x) = 41025.8927\n",
      "\t[0.8397, 1.0693, 1.0914] f(x) = 41025.8927\n",
      "\t[0.8133, 1.0823, 1.1082] f(x) = 41025.8609\n",
      "\t[0.8133, 1.0823, 1.1082] f(x) = 41025.8609\n",
      "\t[0.8133, 1.0823, 1.1082] f(x) = 41025.8609\n",
      "\t[0.8273, 1.0732, 1.1005] f(x) = 41025.8598\n",
      "\t[0.8165, 1.0761, 1.108] f(x) = 41025.8523\n",
      "\t[0.8189, 1.0753, 1.1087] f(x) = 41025.8518\n",
      "\t[0.8171, 1.0786, 1.107] f(x) = 41025.8517\n",
      "\t[0.8126, 1.0784, 1.1116] f(x) = 41025.8504\n",
      "\n",
      "PACKER Results:\n",
      "\tIterations = 62\n",
      "\tMessage = Optimization terminated successfully.\n",
      "\ttheta_target = 1.1116149480081654,\n",
      "\ttheta_cntrst = 1.0783904777288968,\n",
      "\tspecificity = 0.812631061578019,\n",
      "\tLogLike = 41025.850379730604\n",
      "\tAIC = 82057.70075946121\n"
     ]
    }
   ],
   "source": [
    "# options for the optimization routine                                                                                                                         \n",
    "options = dict(\n",
    "    method = 'Nelder-Mead',\n",
    "    options = dict(maxiter = 500, disp = False),\n",
    "    tol = 0.01,\n",
    ")\n",
    "inits = [1.5,1.5,1.5]#{'specificity':1.5,'theta_cntrst':1.5,'theta_target':1.5}\n",
    "#Run the fits\n",
    "res = Simulation.hillclimber(Packer, trials, options,\n",
    "                             inits=inits, results = True,\n",
    "                             callbackstyle='iter') #can use 'iter','none','.'       \n",
    "fitparm = res.x"
   ]
  },
  {
   "cell_type": "code",
   "execution_count": 114,
   "metadata": {},
   "outputs": [
    {
     "data": {
      "text/plain": [
       "[0.812631061578019, 1.0783904777288968, 1.1116149480081654]"
      ]
     },
     "execution_count": 114,
     "metadata": {},
     "output_type": "execute_result"
    }
   ],
   "source": [
    "res.x"
   ]
  },
  {
   "cell_type": "code",
   "execution_count": 62,
   "metadata": {},
   "outputs": [
    {
     "data": {
      "text/plain": [
       "<matplotlib.image.AxesImage at 0x1a1cd6b350>"
      ]
     },
     "execution_count": 62,
     "metadata": {},
     "output_type": "execute_result"
    },
    {
     "data": {
      "image/png": "[encoded data removed]",
      "text/plain": [
       "<Figure size 216x216 with 1 Axes>"
      ]
     },
     "metadata": {},
     "output_type": "display_data"
    }
   ],
   "source": [
    "# ps = NPacker(categories,setparms,wrap_ax=None).get_generation_ps(stimuli,1,'generate')\n",
    "STAT_LIMS = (-1.0, 1.0)\n",
    "ps = [nps,pps]\n",
    "betacol = ['green' for bi in range(len(categories[1]))]\n",
    "f,ax = plt.subplots(1,2,figsize=(6,3))\n",
    "for i in range(2):\n",
    "    gps = funcs.gradientroll(ps,'roll')[:,:,0]\n",
    "    ps_ElRange = gps.max()-gps.min();\n",
    "    plotVals = (gps-gps.min())/ps_ElRange\n",
    "    gammas = []\n",
    "    funcs.plotgradient(ax[i], plotVals, categories[0], categories[1], gammas = gammas,clim = STAT_LIMS, cmap = 'PuOr',beta_col=betacol)\n",
    "    # ax[ci].set_title(catstr[ci])"
   ]
  },
  {
   "cell_type": "code",
   "execution_count": 95,
   "metadata": {},
   "outputs": [
    {
     "data": {
      "text/plain": [
       "array([108, 105,  74,  60,  51,  24,  30,  32,  47, 105,  99,  75,  51,\n",
       "        30,  22,  11,  21,  29, 109,  86,  78,  62,  22,  17,  13,  18,\n",
       "        32, 109, 118,  79,  58,  45,  13,  14,  24,  29, 157, 127, 127,\n",
       "        99,  76,  46,  33,  37,  51, 193, 200, 182, 151, 117,  89,  95,\n",
       "        91,  98, 271, 243, 271, 189, 167, 110, 144, 148, 142, 382, 364,\n",
       "         0, 318, 268, 225, 190,   0, 226, 355, 352, 358, 296, 245, 210,\n",
       "       205, 223, 229])"
      ]
     },
     "execution_count": 95,
     "metadata": {},
     "output_type": "execute_result"
    }
   ],
   "source": [
    "\n"
   ]
  },
  {
   "cell_type": "code",
   "execution_count": 91,
   "metadata": {},
   "outputs": [
    {
     "data": {
      "text/plain": [
       "array([0.01128982, 0.0098872 , 0.00850306, 0.00641642, 0.0045699 ,\n",
       "       0.00298167, 0.00287798, 0.0030689 , 0.00436285, 0.00988737,\n",
       "       0.00850708, 0.00716359, 0.00513863, 0.00323445, 0.00164449,\n",
       "       0.00138762, 0.00169911, 0.0030689 , 0.01080063, 0.00940258,\n",
       "       0.00801817, 0.00569363, 0.00339095, 0.00150525, 0.00115834,\n",
       "       0.00156203, 0.00319496, 0.01160775, 0.01020291, 0.00880208,\n",
       "       0.00627492, 0.00393753, 0.00200196, 0.00169446, 0.00208774,\n",
       "       0.00368066, 0.01559954, 0.01426249, 0.01287906, 0.00959779,\n",
       "       0.00679347, 0.00443245, 0.00430493, 0.00464827, 0.0062935 ,\n",
       "       0.02074452, 0.01970045, 0.01857933, 0.01428915, 0.01080418,\n",
       "       0.00796623, 0.00818239, 0.00840715, 0.00990767, 0.02741952,\n",
       "       0.02702498, 0.02658463, 0.02091463, 0.01635043, 0.01264959,\n",
       "       0.01311828, 0.01344582, 0.01482177, 0.03618068, 0.03700119,\n",
       "       0.        , 0.03040175, 0.02435019, 0.01943347, 0.02018229,\n",
       "       0.        , 0.02178699, 0.03547171, 0.03618068, 0.03700119,\n",
       "       0.03042186, 0.02501048, 0.02049717, 0.02119308, 0.02178737,\n",
       "       0.02267217])"
      ]
     },
     "execution_count": 91,
     "metadata": {},
     "output_type": "execute_result"
    }
   ],
   "source": [
    "nps"
   ]
  },
  {
   "cell_type": "code",
   "execution_count": null,
   "metadata": {},
   "outputs": [],
   "source": []
  }
 ],
 "metadata": {
  "kernelspec": {
   "display_name": "Python 2",
   "language": "python",
   "name": "python2"
  },
  "language_info": {
   "codemirror_mode": {
    "name": "ipython",
    "version": 2
   },
   "file_extension": ".py",
   "mimetype": "text/x-python",
   "name": "python",
   "nbconvert_exporter": "python",
   "pygments_lexer": "ipython2",
   "version": "2.7.15"
  }
 },
 "nbformat": 4,
 "nbformat_minor": 2
}

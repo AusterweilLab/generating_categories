{
 "cells": [
  {
   "cell_type": "code",
   "execution_count": 48,
   "metadata": {},
   "outputs": [
    {
     "data": {
      "text/plain": [
       "[1]"
      ]
     },
     "execution_count": 48,
     "metadata": {},
     "output_type": "execute_result"
    }
   ],
   "source": [
    "a = []\n",
    "a+=[1]\n",
    "a"
   ]
  },
  {
   "cell_type": "code",
   "execution_count": 2,
   "metadata": {
    "scrolled": true
   },
   "outputs": [
    {
     "name": "stdout",
     "output_type": "stream",
     "text": [
      "0.2\n"
     ]
    },
    {
     "ename": "ValueError",
     "evalue": "too many values to unpack",
     "output_type": "error",
     "traceback": [
      "\u001b[0;31m-----------------------------------------------------------------\u001b[0m",
      "\u001b[0;31mValueError\u001b[0m                      Traceback (most recent call last)",
      "\u001b[0;32m<ipython-input-2-deda81f11bc0>\u001b[0m in \u001b[0;36m<module>\u001b[0;34m()\u001b[0m\n\u001b[1;32m     14\u001b[0m \u001b[0;32mprint\u001b[0m\u001b[0;34m(\u001b[0m\u001b[0mx_scalar\u001b[0m\u001b[0;34m[\u001b[0m\u001b[0my\u001b[0m\u001b[0;34m.\u001b[0m\u001b[0mindex\u001b[0m\u001b[0;34m(\u001b[0m\u001b[0mmax\u001b[0m\u001b[0;34m(\u001b[0m\u001b[0my\u001b[0m\u001b[0;34m)\u001b[0m\u001b[0;34m)\u001b[0m\u001b[0;34m]\u001b[0m\u001b[0;34m)\u001b[0m\u001b[0;34m\u001b[0m\u001b[0m\n\u001b[1;32m     15\u001b[0m \u001b[0;34m\u001b[0m\u001b[0m\n\u001b[0;32m---> 16\u001b[0;31m \u001b[0;34m(\u001b[0m\u001b[0mya\u001b[0m\u001b[0;34m,\u001b[0m\u001b[0mya2\u001b[0m\u001b[0;34m)\u001b[0m \u001b[0;34m=\u001b[0m \u001b[0;34m[\u001b[0m\u001b[0mfuncs\u001b[0m\u001b[0;34m.\u001b[0m\u001b[0minvwishartpdf\u001b[0m\u001b[0;34m(\u001b[0m\u001b[0mxxi\u001b[0m\u001b[0;34m,\u001b[0m\u001b[0mscale\u001b[0m\u001b[0;34m,\u001b[0m\u001b[0mdf\u001b[0m\u001b[0;34m)\u001b[0m \u001b[0;32mfor\u001b[0m \u001b[0mxxi\u001b[0m \u001b[0;32min\u001b[0m \u001b[0mx\u001b[0m\u001b[0;34m]\u001b[0m\u001b[0;34m\u001b[0m\u001b[0m\n\u001b[0m\u001b[1;32m     17\u001b[0m \u001b[0mplt\u001b[0m\u001b[0;34m.\u001b[0m\u001b[0mplot\u001b[0m\u001b[0;34m(\u001b[0m\u001b[0mx_scalar\u001b[0m\u001b[0;34m,\u001b[0m\u001b[0mya\u001b[0m\u001b[0;34m)\u001b[0m\u001b[0;34m\u001b[0m\u001b[0m\n\u001b[1;32m     18\u001b[0m \u001b[0;32mprint\u001b[0m\u001b[0;34m(\u001b[0m\u001b[0mx_scalar\u001b[0m\u001b[0;34m[\u001b[0m\u001b[0mya\u001b[0m\u001b[0;34m.\u001b[0m\u001b[0mindex\u001b[0m\u001b[0;34m(\u001b[0m\u001b[0mmax\u001b[0m\u001b[0;34m(\u001b[0m\u001b[0mya\u001b[0m\u001b[0;34m)\u001b[0m\u001b[0;34m)\u001b[0m\u001b[0;34m]\u001b[0m\u001b[0;34m)\u001b[0m\u001b[0;34m\u001b[0m\u001b[0m\n",
      "\u001b[0;31mValueError\u001b[0m: too many values to unpack"
     ]
    },
    {
     "data": {
      "image/png": "[encoded data removed]",
      "text/plain": [
       "<Figure size 432x288 with 1 Axes>"
      ]
     },
     "metadata": {
      "needs_background": "light"
     },
     "output_type": "display_data"
    }
   ],
   "source": [
    "from scipy.stats import invwishart\n",
    "import numpy as np\n",
    "import matplotlib.pyplot as plt\n",
    "execfile('Imports.py')\n",
    "import Modules.Funcs as funcs\n",
    "\n",
    "df = 2\n",
    "scale = np.eye(2)\n",
    "tdist = invwishart(df=df,scale=scale)\n",
    "x_scalar = np.arange(.01,5,.01)\n",
    "x = [xi * np.eye(2) for xi in x_scalar]\n",
    "y = [tdist.pdf(xxi) for xxi in x]\n",
    "plt.plot(x_scalar,y)\n",
    "print(x_scalar[y.index(max(y))])\n",
    "\n",
    "ya = [funcs.invwishartpdf(xxi,scale,df) for xxi in x]\n",
    "\n",
    "ya2 = [funcs.invwishartpdf2(xxi,scale,df) for xxi in x]\n",
    "\n",
    "plt.plot(x_scalar,ya)\n",
    "print(x_scalar[ya.index(max(ya))])\n",
    "\n",
    "print(x_scalar[ya2.index(max(ya2))])\n",
    "\n",
    "\n"
   ]
  },
  {
   "cell_type": "code",
   "execution_count": 8,
   "metadata": {},
   "outputs": [
    {
     "name": "stdout",
     "output_type": "stream",
     "text": [
      "2.405252115666262\n",
      "0.8369004892674435\n"
     ]
    }
   ],
   "source": [
    "print(funcs.mvgamma(3,1.213))\n",
    "print(funcs.mvgamma2(1.213))"
   ]
  },
  {
   "cell_type": "code",
   "execution_count": 2,
   "metadata": {
    "scrolled": true
   },
   "outputs": [
    {
     "name": "stdout",
     "output_type": "stream",
     "text": [
      "1.0\n",
      "1.0\n"
     ]
    }
   ],
   "source": [
    "from numpy.linalg import det\n",
    "nu = 2\n",
    "scale = np.eye(2)\n",
    "X = np.eye(2)\n",
    "p = 2\n",
    "print(det(X) ** (-(nu+p+1)/2))\n",
    "print(1/(det(X) ** ((nu+p+1)/2)))"
   ]
  },
  {
   "cell_type": "code",
   "execution_count": 3,
   "metadata": {},
   "outputs": [
    {
     "name": "stdout",
     "output_type": "stream",
     "text": [
      "0.015625\n",
      "0.03125\n",
      "0.25\n"
     ]
    }
   ],
   "source": [
    "print(2**-(5)/2)\n",
    "print(2**-5)\n",
    "print(1./(2**((5)/2)))\n"
   ]
  },
  {
   "cell_type": "code",
   "execution_count": 8,
   "metadata": {},
   "outputs": [],
   "source": [
    "import pickle, sys, os\n",
    "import pandas as pd\n",
    "import numpy as np\n",
    "import time\n",
    "execfile('Imports.py')\n",
    "import Modules.Funcs as funcs\n",
    "from Modules.Classes import Simulation\n",
    "from Modules.Classes import CopyTweak\n",
    "from Modules.Classes import Packer\n",
    "from Modules.Classes import ConjugateJK13\n",
    "from Modules.Classes import RepresentJK13\n",
    "from Modules.Classes import NegatedSpace\n",
    "\n",
    "\n",
    "\n",
    "# Specify default dataname\n",
    "dataname_def = 'pooled'\n",
    "participant_def = 'all'\n",
    "unique_trials_def = 'all'\n",
    "nchunks = 1000 #number of CHTC instances to run\n",
    "#Allow for input arguments at the shell\n",
    "narg = len(sys.argv)\n",
    "\n",
    "if __name__ == \"__main__\" and narg>1:\n",
    "\n",
    "        # if len(sys.argv)<4:\n",
    "        #         unique_trials = unique_trials_def\n",
    "        # else:\n",
    "        #         unique_trials = int(sys.argv[3])\n",
    "        # if len(sys.argv)<3:\n",
    "        #         participant = participant_def\n",
    "        # else:\n",
    "        #         participant = int(sys.argv[2])\n",
    "        # if len(sys.argv)<2:\n",
    "        #         dataname = dataname_def\n",
    "        # else:\n",
    "        #         dataname = sys.argv[1]\n",
    "        dataname = dataname_def\n",
    "        participant = participant_def\n",
    "        unique_trials = unique_trials_def\n",
    "\n",
    "else:\n",
    "        dataname = dataname_def\n",
    "        participant = participant_def\n",
    "        unique_trials = unique_trials_def\n",
    "\n",
    "execfile('validate_data.py')\n",
    "# get data from pickle\n",
    "with open(pickledir+src, \"rb\" ) as f:\n",
    "\ttrials = pickle.load( f )\n",
    "\n",
    "trials.task = task\n",
    "# trials = Simulation.extractPptData(trials,participant,unique_trials)\n",
    "\n",
    "#Get current best parms\n",
    "with open(pickledir+bestparmchtc,'rb') as f:\n",
    "    best_params_t = pickle.load(f)\n",
    "best_params = funcs.compress_chtc_parms(best_params_t)\n",
    "\n"
   ]
  },
  {
   "cell_type": "code",
   "execution_count": 10,
   "metadata": {},
   "outputs": [],
   "source": [
    "modelList = [Packer,CopyTweak,ConjugateJK13,RepresentJK13]\n",
    "ll = dict()\n",
    "for model in modelList:\n",
    "    ll[model.model] =  trials.loglike(best_params[model.model],model,parmxform=False,seedrng=True)\n",
    "\n"
   ]
  },
  {
   "cell_type": "code",
   "execution_count": 11,
   "metadata": {},
   "outputs": [
    {
     "data": {
      "text/plain": [
       "{'Copy and Tweak': 4904.744595758372,\n",
       " 'Hierarchical Sampling': 4936.980172612816,\n",
       " 'Hierarchical Sampling With Representativeness': 4387.738010502973,\n",
       " 'PACKER': 4531.399234215766}"
      ]
     },
     "execution_count": 11,
     "metadata": {},
     "output_type": "execute_result"
    }
   ],
   "source": [
    "ll\n"
   ]
  },
  {
   "cell_type": "code",
   "execution_count": null,
   "metadata": {},
   "outputs": [],
   "source": []
  }
 ],
 "metadata": {
  "kernelspec": {
   "display_name": "Python 2",
   "language": "python",
   "name": "python2"
  },
  "language_info": {
   "codemirror_mode": {
    "name": "ipython",
    "version": 2
   },
   "file_extension": ".py",
   "mimetype": "text/x-python",
   "name": "python",
   "nbconvert_exporter": "python",
   "pygments_lexer": "ipython2",
   "version": "2.7.15"
  }
 },
 "nbformat": 4,
 "nbformat_minor": 2
}

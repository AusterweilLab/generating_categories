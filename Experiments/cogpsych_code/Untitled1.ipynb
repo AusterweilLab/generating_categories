{
 "cells": [
  {
   "cell_type": "code",
   "execution_count": 4,
   "metadata": {},
   "outputs": [],
   "source": [
    "import numpy as np\n",
    "import pickle\n",
    "\n",
    "pickledir = 'pickles/newpickles/'\n",
    "ps = ['chtc_gs_best_params_xcrABC_chunk%d.p'%i for i in range(6)]\n",
    "\n",
    "data = []\n",
    "\n",
    "for p in ps:\n",
    "    with open(pickledir+p,'rb') as f:\n",
    "        data += [pickle.load(f)]\n"
   ]
  },
  {
   "cell_type": "code",
   "execution_count": 5,
   "metadata": {},
   "outputs": [
    {
     "data": {
      "text/plain": [
       "[{'Negated Space': {'bestparmsll': array([5.23487814e-01, 1.49679806e+04, 2.99379612e+04]),\n",
       "   'chunkidx': [0, 1],\n",
       "   'chunkstartparms': array([[1.2]]),\n",
       "   'finalparmsll': array([[5.23487814e-01, 1.49679806e+04, 2.99379612e+04]]),\n",
       "   'parmnames': ['determinism'],\n",
       "   'startparms': array([[1.2]])}},\n",
       " {'Negated Space': {'bestparmsll': array([5.20833333e-01, 1.49679804e+04, 2.99379608e+04]),\n",
       "   'chunkidx': [1, 2],\n",
       "   'chunkstartparms': array([[1.92]]),\n",
       "   'finalparmsll': array([[5.20833333e-01, 1.49679804e+04, 2.99379608e+04]]),\n",
       "   'parmnames': ['determinism'],\n",
       "   'startparms': array([[1.92]])}},\n",
       " {'Negated Space': {'bestparmsll': array([5.22459191e-01, 1.49679803e+04, 2.99379606e+04]),\n",
       "   'chunkidx': [2, 3],\n",
       "   'chunkstartparms': array([[2.64]]),\n",
       "   'finalparmsll': array([[5.22459191e-01, 1.49679803e+04, 2.99379606e+04]]),\n",
       "   'parmnames': ['determinism'],\n",
       "   'startparms': array([[2.64]])}},\n",
       " {'Negated Space': {'bestparmsll': array([5.21305898e-01, 1.49679803e+04, 2.99379606e+04]),\n",
       "   'chunkidx': [3, 4],\n",
       "   'chunkstartparms': array([[3.36]]),\n",
       "   'finalparmsll': array([[5.21305898e-01, 1.49679803e+04, 2.99379606e+04]]),\n",
       "   'parmnames': ['determinism'],\n",
       "   'startparms': array([[3.36]])}},\n",
       " {'Negated Space': {'bestparmsll': array([5.21878823e-01, 1.49679803e+04, 2.99379605e+04]),\n",
       "   'chunkidx': [4, 5],\n",
       "   'chunkstartparms': array([[4.08]]),\n",
       "   'finalparmsll': array([[5.21878823e-01, 1.49679803e+04, 2.99379605e+04]]),\n",
       "   'parmnames': ['determinism'],\n",
       "   'startparms': array([[4.08]])}},\n",
       " {'Negated Space': {'bestparmsll': array([5.23585957e-01, 1.49679806e+04, 2.99379613e+04]),\n",
       "   'chunkidx': [5, 6],\n",
       "   'chunkstartparms': array([[4.8]]),\n",
       "   'finalparmsll': array([[5.23585957e-01, 1.49679806e+04, 2.99379613e+04]]),\n",
       "   'parmnames': ['determinism'],\n",
       "   'startparms': array([[4.8]])}}]"
      ]
     },
     "execution_count": 5,
     "metadata": {},
     "output_type": "execute_result"
    }
   ],
   "source": [
    "data"
   ]
  }
 ],
 "metadata": {
  "kernelspec": {
   "display_name": "Python 2",
   "language": "python",
   "name": "python2"
  },
  "language_info": {
   "codemirror_mode": {
    "name": "ipython",
    "version": 2
   },
   "file_extension": ".py",
   "mimetype": "text/x-python",
   "name": "python",
   "nbconvert_exporter": "python",
   "pygments_lexer": "ipython2",
   "version": "2.7.15"
  }
 },
 "nbformat": 4,
 "nbformat_minor": 2
}

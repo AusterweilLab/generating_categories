{
 "cells": [
  {
   "cell_type": "code",
   "execution_count": null,
   "metadata": {},
   "outputs": [],
   "source": [
    "#Define execfile for python3\n",
    "# def execfile(filepath, globals=None, locals=None):\n",
    "#     if globals is None:\n",
    "#         globals = {}\n",
    "#     globals.update({\n",
    "#         \"__file__\": filepath,\n",
    "#         \"__name__\": \"__main__\",\n",
    "#     })\n",
    "#     with open(filepath, 'rb') as file:\n",
    "#         exec(compile(file.read(), filepath, 'exec'), globals, locals)"
   ]
  },
  {
   "cell_type": "code",
   "execution_count": 59,
   "metadata": {},
   "outputs": [],
   "source": [
    "#Shows each individual plot along with which model best fits it\n",
    "import pickle, math\n",
    "import pandas as pd\n",
    "import sqlite3\n",
    "import random\n",
    "import os\n",
    "import itertools\n",
    "exec(open('Imports.py').read()) #execfile('Imports.py')\n",
    "import Modules.Funcs as funcs\n",
    "from Modules.Classes import Simulation\n",
    "from Modules.Classes import CopyTweak\n",
    "from Modules.Classes import CopyTweakRep\n",
    "from Modules.Classes import Packer\n",
    "from Modules.Classes import PackerRep\n",
    "from Modules.Classes import PackerEuc\n",
    "from Modules.Classes import ConjugateJK13\n",
    "from Modules.Classes import RepresentJK13\n",
    "from scipy.stats import stats as ss\n",
    "import numpy as np\n",
    "import matplotlib.pyplot as plt\n",
    "import seaborn as sns\n",
    "sns.set_style(\"whitegrid\")\n",
    "\n",
    "#plotting options\n",
    "STAT_LIMS =  (-1.0, 1.0)\n",
    "#Fit to only last trial?\n",
    "fitlast = False\n",
    "#Make plots?\n",
    "doplots = False\n",
    "saveplots = False\n",
    "if fitlast:\n",
    "    showlast = True\n",
    "else:\n",
    "    showlast = False #True = Show last even if fitting to all?\n",
    "#Bootstrap parameters\n",
    "nbootstraps = 1000\n",
    "\n",
    "# if fitlast and showlast:\n",
    "#     savedir = 'private/individual_modelcomp/fitlast'\n",
    "# elif showlast:\n",
    "#     savedir = 'private/individual_modelcomp/showonlylast/'\n",
    "# elif fitlast:\n",
    "#     savedir = 'private/individual_modelcomp/fitlast'\n",
    "# else:\n",
    "#     savedir = 'private/individual_modelcomp/showall'\n",
    "\n",
    "# savefilename='modelvsppt{}_t.pdf'.format(corrtype)\n",
    "# modeleaseDB = \"pickles/modelease_corr{}.p\".format(corrtype)\n",
    "\n",
    "#Some plotting options\n",
    "font = {'family' : 'DejaVu Sans',\n",
    "        'weight' : 'regular',\n",
    "        'size'   : 15}\n",
    "\n",
    "#Specify simulation values\n",
    "N_SAMPLES = 10000\n",
    "WT_THETA = 1.5\n",
    "MIN_LL = 1e-10\n",
    "\n",
    "# Specify default dataname\n",
    "dbname = 'experiment-corner_c.db'#'experiments-pooled.db'#'experiments-5con.db'#raw data\n",
    "dataname_def = '5con'#'pooled'#'5con'#bestparms comes from here\n",
    "\n",
    "# Specify default dataname\n",
    "# dataname_def = 'pooled'#'nosofsky1986'#'NGPMG1994'\n",
    "participant_def = 'all'\n",
    "unique_trials_def = 'all'\n",
    "dataname = dataname_def\n",
    "execfile('validate_data.py')\n",
    "\n",
    "bestparmdb = \"pickles/chtc_gs_best_params_{}\".format(src)\n",
    "\n",
    "\n",
    "plt.rc('font', **font)\n",
    "\n",
    "# get data from pickle\n",
    "with open(pickledir+src, \"rb\" ) as f:\n",
    "    trials = pickle.load( f )\n",
    "\n",
    "# get best params pickle\n",
    "#bestparmdb = \"pickles/chtc_gs_best_params_all_data_e1_e2.p\"\n",
    "#bestparmdb = \"pickles/chtc_gs_best_params_corrs.p\"\n",
    "with open(bestparmdb, \"rb\" ) as f:\n",
    "    best_params_t = pickle.load( f )\n",
    "\n",
    "#Rebuild it into a smaller dict\n",
    "best_params = dict()\n",
    "for modelname in best_params_t.keys():    \n",
    "    best_params[modelname] = dict()\n",
    "    for i,parmname in enumerate(best_params_t[modelname]['parmnames']):\n",
    "        parmval = best_params_t[modelname]['bestparmsll']\n",
    "        best_params[modelname][parmname] = parmval[i]\n",
    "modelList = [Packer,RepresentJK13,ConjugateJK13]\n",
    "#modelList = [CopyTweak,CopyTweakRep,Packer, RepresentJK13,]                            \n",
    "\n",
    "#Specify plot order\n",
    "modelPlotOrder = np.array([[Packer,RepresentJK13],[CopyTweak,ConjugateJK13]])\n",
    "#modelPlotOrder = np.array([[CopyTweak,CopyTweakRep],[Packer,RepresentJK13]])\n",
    "\n",
    "#Prepare matched database    \n",
    "# matchdb='../cat-assign/data_utilities/cmp_midbot.db'\n",
    "        \n",
    "unique_trials = 'all'\n",
    "trials.task = task\n",
    "\n",
    "\n"
   ]
  },
  {
   "cell_type": "code",
   "execution_count": 60,
   "metadata": {},
   "outputs": [],
   "source": [
    "#Create new trialset\n",
    "con = sqlite3.connect(dbname)\n",
    "participants = pd.read_sql_query(\"SELECT participant, condition from participants\", con)\n",
    "generation = pd.read_sql_query(\"SELECT * from generation\", con)\n",
    "alphas = pd.read_sql_query(\"SELECT * from alphas\", con)\n",
    "stimuli = pd.read_sql_query(\"SELECT * from stimuli\", con).values\n",
    "con.close()\n",
    "\n",
    "# create categories mapping                                                                             \n",
    "mapping = pd.DataFrame(columns = ['condition', 'categories'])\n",
    "for i in alphas.columns:\n",
    "    As = alphas[i].values.flatten()\n",
    "    mapping = mapping.append(\n",
    "        dict(condition = i, categories =[As]),\n",
    "        ignore_index = True\n",
    "    )\n",
    "\n",
    "# merge categories into generation                                                                      \n",
    "generation = pd.merge(generation, participants, on='participant')\n",
    "generation = pd.merge(generation, mapping, on='condition')\n",
    "#Select only one participant\n",
    "def generateOnePerm(ppt,generation,stimuli,order=None,betas=None,alphas=None):\n",
    "    genppt = generation.loc[generation.participant==ppt]\n",
    "    if order is None:\n",
    "        order = genppt.trial\n",
    "    if betas is None:\n",
    "        betas = genppt.stimulus\n",
    "    minlength = min(len(order),len(betas))\n",
    "    while len(genppt)<minlength:\n",
    "        temprow = genppt.iloc[0]\n",
    "        genppt = genppt.append({'participant':temprow.participant,'stimulus':temprow.stimulus,'trial':max(genppt.trial)+1,'condition':temprow.condition,'categories':temprow.categories},ignore_index=True)\n",
    "    if alphas is None:\n",
    "        categories = genppt.categories\n",
    "    else:\n",
    "        categories = [[alphas] for i in range(minlength)]\n",
    "    #Extract only as much as the minimum specified order or beta allows\n",
    "    genppt = genppt[0:minlength]\n",
    "    genppt.trial = order[0:minlength]\n",
    "    genppt.stimulus = betas[0:minlength]\n",
    "    genppt.categories = categories[0:minlength]\n",
    "\n",
    "  \n",
    "    # create trial set object                                                                               \n",
    "    trials = Simulation.Trialset(stimuli)\n",
    "    trials = trials.add_frame(genppt)\n",
    "    trials.task = 'generate'\n",
    "    trials._update\n",
    "    return trials"
   ]
  },
  {
   "cell_type": "code",
   "execution_count": 3,
   "metadata": {
    "scrolled": false
   },
   "outputs": [],
   "source": [
    "##Plotting function\n",
    "def plotInd(ppts,betas=None,alphas=None,order=None,doplots=True):\n",
    "    #Go through each participant and get their fits for each model\n",
    "    nmodels = len(modelList)\n",
    "    ll = []\n",
    "    tally = np.zeros(nmodels)\n",
    "    wins = []\n",
    "    true_order = np.bool_(np.zeros(len(ppts)))\n",
    "    for ppi,ppt in enumerate(ppts):#[147]:#trials.participants:\n",
    "        ppt = int(ppt)\n",
    "#         print('Ppt: ' + str(ppt))\n",
    "        llrow = []\n",
    "        if fitlast:\n",
    "            extract_trials = 3\n",
    "        else:\n",
    "            extract_trials = 'all'\n",
    "        pptconstr = participants.condition[participants.participant==ppt].values[0][0]\n",
    "        raw_order = generation.loc[generation.participant==ppt].trial.values        \n",
    "        true_order[ppi] = np.array_equal(raw_order,order)\n",
    "        trialppt = generateOnePerm(ppt,generation,stimuli,order=order,betas=betas, alphas=alphas)\n",
    "    #     trialppt = Simulation.extractPptData(trials, ppt=ppt, unique_trials=extract_trials)\n",
    "        #Get list of lls and winning model\n",
    "        for model in modelList:\n",
    "            if model is PackerEuc: #Gotta do this because I haven't fit PackerEuc to all data yet\n",
    "                params = best_params[Packer.model]\n",
    "            else:\n",
    "                params = best_params[model.model]\n",
    "            ppt_trial_ll = trialppt.loglike(params=params,model=model,parmxform=False)\n",
    "            llrow += [ppt_trial_ll]\n",
    "        bestmodel = llrow.index(np.min(llrow))\n",
    "        bestmodelstr = modelList[bestmodel].modelshort\n",
    "        ll += [[ppt]+llrow]\n",
    "        tally[bestmodel] += 1\n",
    "        wins += [bestmodel]\n",
    "        #Prepare stuff fot plotting\n",
    "        if doplots:\n",
    "\n",
    "            #Sort trial obj by trial number - really only applicable if onlylast is false                                                                                                                   \n",
    "            trialOrder = []\n",
    "            maxbeta = 0\n",
    "            for t,trialobj in enumerate(trialppt.Set):\n",
    "                nbeta = len(trialobj['categories'][1])\n",
    "                trialppt.Set[t]['trial'] = nbeta\n",
    "                trialOrder += [nbeta]\n",
    "                maxbeta = max(nbeta,maxbeta)\n",
    "            trialOrder = np.argsort(trialOrder)\n",
    "            wrap_ax = trialppt.Set[0]['wrap_ax'][0]\n",
    "            if wrap_ax==1:\n",
    "                wrapstr = '<-Wrapped->'\n",
    "            else:\n",
    "                wrapstr = ''\n",
    "            #Add dummy last trial to plot gradients for hypothetical fifth beta\n",
    "            newcatB = np.append(trialppt.Set[trialOrder[maxbeta]]['categories'][1],trialppt.Set[trialOrder[maxbeta]]['response'])\n",
    "            newcatAll = [trialppt.Set[trialOrder[maxbeta]]['categories'][0],newcatB]\n",
    "            trialppt.add(response=0,categories=newcatAll, participant = ppt,wrap_ax = wrap_ax)\n",
    "            trialOrder = np.append(trialOrder,maxbeta+1)\n",
    "            if showlast:\n",
    "                ntrials = 1\n",
    "                plottrials = [len(trialppt.Set)-1] #plot only last trial\n",
    "            else:\n",
    "                ntrials = len(trialppt.Set)\n",
    "                plottrials = range(ntrials)\n",
    "            f,ax = plt.subplots(ntrials,nmodels,figsize = (4*nmodels, 2*ntrials+2.5))\n",
    "            for trial in plottrials:\n",
    "                categories = [trialppt.stimuli[i,:] for i in trialppt.Set[trialOrder[trial]]['categories'] if len(i)>0]\n",
    "                A = categories[0]\n",
    "                resp = trialppt.stimuli[trialppt.Set[trialOrder[trial]]['response'],:]\n",
    "                if len(categories)>1:\n",
    "                    #include the response                                                                                                                  \n",
    "                    B = np.append(categories[1],resp,axis=0)\n",
    "                    if showlast:\n",
    "                        #Include response in generatin of ps                \n",
    "                        categories[1] = B\n",
    "                else:\n",
    "                    #categories += [resp]\n",
    "                    B = resp            \n",
    "                ps = []\n",
    "                ll_trial = []\n",
    "                for m,model in enumerate(modelList):\n",
    "                    if m==bestmodel:\n",
    "                        winstr = '*'\n",
    "                    else:\n",
    "                        winstr = ''\n",
    "                    if ntrials>1:\n",
    "                        ax[0,m].set_title('{}{}{}, ll={:.2f}'.format(winstr,model.modelshort,winstr,llrow[m]))\n",
    "                    else:                    \n",
    "                        ax[m].set_title('{}{}{}, ll={:.2f}'.format(winstr,model.modelshort,winstr,llrow[m]))\n",
    "                    if model is PackerEuc: #Gotta do this because I haven't fit PackerEuc to all data yet\n",
    "                        params = best_params[Packer.model]\n",
    "                    else:\n",
    "                        params = best_params[model.model]\n",
    "                    #Plot heatmap for each model\n",
    "                    ps += [model(categories,params,trialppt.stimrange).get_generation_ps(trialppt.stimuli,1,'generate',wrap_ax=wrap_ax)]\n",
    "                    #Get lls for each trial step\n",
    "                    ll_trial += [trialppt.loglike(params=params,model=model,parmxform=False,whole_array=True)]\n",
    "\n",
    "\n",
    "                #Plot the individual plots\n",
    "                plotct = 0\n",
    "                plotVals = []\n",
    "                psMax = 0\n",
    "                psMin = 1\n",
    "                #Get range                                                                                                                                     \n",
    "                for ps_el in ps:\n",
    "                    psMax = max(psMax,ps_el.max())\n",
    "                    psMin = min(psMin,ps_el.min())\n",
    "\n",
    "                #Normalise all values                                                                                                                          \n",
    "                psRange = psMax-psMin\n",
    "                for i,ps_el in enumerate(ps): #each ps element correspond to a model\n",
    "                    plotct += 1\n",
    "                    gps = funcs.gradientroll(ps_el,'roll')[:,:,0]\n",
    "                    ps_ElRange = gps.max()-gps.min();\n",
    "    #                 if ps_ElRange==0:\n",
    "    #                     ps_ElRange = 1\n",
    "                    plotVals += [(gps-gps.min())/ps_ElRange]  #Change ps_ElRange to psRange to normalize across all models                                                                           \n",
    "                    betacol = ['green' for bi in range(len(B))]\n",
    "    #                 if task is 'generate':\n",
    "    #                     betacol[len(B)-1] = 'orange'\n",
    "                    if ntrials>1:\n",
    "                        betacol[len(B)-1] = 'orange'\n",
    "                        if trial == ntrials-1:\n",
    "                            betacol[len(B)-1] = [0,0,0,0]\n",
    "                        im = funcs.plotgradient(ax[trial,i], plotVals[i], A, B, clim = STAT_LIMS, cmap = 'PuOr',beta_col=betacol)\n",
    "                        ax[trial,i].set_ylabel('Trial {}\\n{}'.format(trial,wrapstr))\n",
    "                        if trial<ntrials-1:\n",
    "                            ax[trial,i].set_xlabel('ll_trial = {:.2f}'.format(ll_trial[i][trial]),fontsize=10)\n",
    "                        #else:\n",
    "\n",
    "                    else:\n",
    "                        im = funcs.plotgradient(ax[i], plotVals[i], A, B, clim = STAT_LIMS, cmap = 'PuOr',beta_col=betacol)\n",
    "    #                     ax[i].set_ylabel('Trial {}'.format(trial))\n",
    "            #Save fig\n",
    "            if saveplots:\n",
    "                savedirext = '{}/{}'.format(savedir,bestmodelstr)\n",
    "                if os.path.isdir(savedirext):\n",
    "                    plt.savefig('{}/{}_{}_{}'.format(savedirext,pptconstr,int(ppt),bestmodelstr[0]))\n",
    "                else:\n",
    "                    os.mkdir(savedirext)\n",
    "                    plt.savefig('{}/{}_{}_{}'.format(savedirext,pptconstr,int(ppt),bestmodelstr[0]))\n",
    "    #         plt.close()\n",
    "\n",
    "    return ll,wins,true_order\n"
   ]
  },
  {
   "cell_type": "code",
   "execution_count": 4,
   "metadata": {
    "scrolled": true
   },
   "outputs": [
    {
     "name": "stderr",
     "output_type": "stream",
     "text": [
      "/Users/sourguyxian/anaconda2/lib/python2.7/site-packages/ipykernel_launcher.py:116: RuntimeWarning: invalid value encountered in divide\n"
     ]
    },
    {
     "data": {
      "text/plain": [
       "([[303, 21.401350172696702, 19.427364722328832, 16.3282185723675]],\n",
       " [2],\n",
       " array([False]))"
      ]
     },
     "execution_count": 4,
     "metadata": {},
     "output_type": "execute_result"
    },
    {
     "data": {
      "image/png": "[encoded data removed]",
      "text/plain": [
       "<Figure size 864x900 with 15 Axes>"
      ]
     },
     "metadata": {},
     "output_type": "display_data"
    }
   ],
   "source": [
    "ppts = [303]#318#trials.participants:\n",
    "betas = None#[40,31,49,39,41]#[30,32,48,50]#[72,64,16,8]#[30,32,48,50]\n",
    "alphas = None#[40,64,70,16]#[68,60,52]\n",
    "modelList = [Packer,RepresentJK13,ConjugateJK13]\n",
    "if betas is None:\n",
    "    nbetas = 4\n",
    "else:\n",
    "    nbetas = len(betas)\n",
    "order = None#[2,3,1,0] #None: ordered by participant\n",
    "plotInd(ppts,betas,alphas,order,doplots=True)"
   ]
  },
  {
   "cell_type": "code",
   "execution_count": 7,
   "metadata": {},
   "outputs": [
    {
     "name": "stderr",
     "output_type": "stream",
     "text": [
      "/Users/sourguyxian/anaconda2/lib/python2.7/site-packages/ipykernel_launcher.py:116: RuntimeWarning: invalid value encountered in divide\n"
     ]
    },
    {
     "data": {
      "text/plain": [
       "([[318, 19.695501389495334, 18.146668246312302, 17.668094028162592]],\n",
       " [2],\n",
       " array([False]))"
      ]
     },
     "execution_count": 7,
     "metadata": {},
     "output_type": "execute_result"
    },
    {
     "data": {
      "image/png": "[encoded data removed]",
      "text/plain": [
       "<Figure size 864x900 with 15 Axes>"
      ]
     },
     "metadata": {},
     "output_type": "display_data"
    }
   ],
   "source": [
    "ppts = [318]#[10]#[101]#[318]#trials.participants:\n",
    "betas = None#[39,41,49,31]#midcross#[2,3,4,5]#centered[39,41,49,31]#[30,32,48,50]#[72,64,16,8]#[30,32,48,50]\n",
    "alphas = [0,8,72,80]#oneoff[10,64,70,16]#edge[0,8,72,80]#[40,64,70,16]#[68,60,52]\n",
    "# modelList = [Packer,RepresentJK13,ConjugateJK13]\n",
    "if betas is None:\n",
    "    nbetas = 4\n",
    "else:\n",
    "    nbetas = len(betas)\n",
    "order = range(nbetas) #None = ordered by participant\n",
    "plotInd(ppts,betas,alphas,order,doplots=True)"
   ]
  },
  {
   "cell_type": "code",
   "execution_count": 4,
   "metadata": {},
   "outputs": [
    {
     "name": "stderr",
     "output_type": "stream",
     "text": [
      "/Users/sourguyxian/anaconda2/lib/python2.7/site-packages/ipykernel_launcher.py:116: RuntimeWarning: invalid value encountered in divide\n"
     ]
    },
    {
     "data": {
      "text/plain": [
       "([[318, 5.70216879450467, 5.199346243340778, 4.394449154672439]],\n",
       " [2],\n",
       " array([False]))"
      ]
     },
     "execution_count": 4,
     "metadata": {},
     "output_type": "execute_result"
    },
    {
     "data": {
      "image/png": "[encoded data removed]",
      "text/plain": [
       "<Figure size 864x468 with 6 Axes>"
      ]
     },
     "metadata": {},
     "output_type": "display_data"
    }
   ],
   "source": [
    "ppts = [318]#[10]#[101]#[318]#trials.participants:\n",
    "betas = [0]#[39,41,49,31]#midcross#[2,3,4,5]#centered[39,41,49,31]#[30,32,48,50]#[72,64,16,8]#[30,32,48,50]\n",
    "alphas = [0,8,72,80]#oneoff[10,64,70,16]#edge[0,8,72,80]#[40,64,70,16]#[68,60,52]\n",
    "# modelList = [Packer,RepresentJK13,ConjugateJK13]\n",
    "if betas is None:\n",
    "    nbetas = 4\n",
    "else:\n",
    "    nbetas = len(betas)\n",
    "order = range(nbetas) #None = ordered by participant\n",
    "plotInd(ppts,betas,alphas,order,doplots=True)"
   ]
  },
  {
   "cell_type": "code",
   "execution_count": null,
   "metadata": {
    "scrolled": true
   },
   "outputs": [],
   "source": [
    "#See if wins are consistent across permutations?)\n",
    "ppts = trials.participants\n",
    "betas = None#[40,31,49,39,41]#[30,32,48,50]#[72,64,16,8]#[30,32,48,50]\n",
    "alphas = None#[40,64,70,16]#[68,60,52]\n",
    "if betas is None:\n",
    "    nbetas = 4\n",
    "else:\n",
    "    nbetas = len(betas)\n",
    "# order = [2,3,1,0] #None: ordered by participant\n",
    "trialPerms = list(itertools.permutations(range(4)))\n",
    "modelList = [Packer,RepresentJK13]\n",
    "wins_all = []\n",
    "wins_true = np.zeros(len(ppts))\n",
    "for pi,perm in enumerate(trialPerms):\n",
    "    print(pi)\n",
    "    res = plotInd(ppts,betas,alphas,perm,doplots=False)\n",
    "    wins = np.array(res[1]    )\n",
    "    wins_true[res[2]] = wins[res[2]]\n",
    "    wins_all += [wins]\n",
    "\n",
    "wins_sum = np.sum(np.array(wins_all),axis=0)\n"
   ]
  },
  {
   "cell_type": "code",
   "execution_count": null,
   "metadata": {
    "scrolled": false
   },
   "outputs": [],
   "source": [
    "wins_check = np.round(wins_sum/24.) == wins_true\n",
    "#list(np.array((wins_check,ppts,wins_sum, wins_true)).T)\n",
    "checkfail = ppts[wins_check==False]\n",
    "print(list(checkfail))\n",
    "print(len(checkfail))"
   ]
  },
  {
   "cell_type": "code",
   "execution_count": null,
   "metadata": {},
   "outputs": [],
   "source": [
    "plt.hist(np.sum(np.array(wins_all),axis=0))"
   ]
  },
  {
   "cell_type": "code",
   "execution_count": null,
   "metadata": {
    "scrolled": true
   },
   "outputs": [],
   "source": [
    "##260319 this code block was an attempt at trying to plot all 24 permutations of the 4 betas, but probably isn't feasible \n",
    "## or as informative as I'd like. Abandoning this attempt now.\n",
    "#Go through each participant and get their fits for each model\n",
    "ll = []\n",
    "tally = np.zeros(2)\n",
    "wins = []\n",
    "permrange = 4\n",
    "trialPerms = list(itertools.permutations(range(permrange)))    \n",
    "for ppt in [26]:#trials.participants:\n",
    "    ppt = int(ppt)\n",
    "    print('Ppt: ' + str(ppt))\n",
    "    llrow = []\n",
    "    if fitlast:\n",
    "        extract_trials = 3\n",
    "    else:\n",
    "        extract_trials = 'all'\n",
    "    f,ax = plt.subplots(ntrials*4,len(modelList)*6,figsize = (8, 2*ntrials+2.5))\n",
    "    for pi,perm in enumerate(trialPerms):        \n",
    "        trialppt = generateOnePerm(ppt,perm,generation,stimuli)\n",
    "        #trialppt = Simulation.extractPptData(trials, ppt=ppt, unique_trials=extract_trials)\n",
    "        #Get list of lls and winning model\n",
    "        for model in modelList:\n",
    "            params = best_params[model.model]\n",
    "            ppt_trial_ll = trialppt.loglike(params=params,model=model,parmxform=False)\n",
    "            llrow += [ppt_trial_ll]\n",
    "        bestmodel = llrow.index(np.min(llrow))\n",
    "        bestmodelstr = modelList[bestmodel].modelshort\n",
    "        ll += [[ppt]+llrow]\n",
    "        tally[bestmodel] += 1\n",
    "        wins += [bestmodel]\n",
    "        #Prepare stuff fot plotting\n",
    "        if doplots:\n",
    "\n",
    "            #Sort trial obj by trial number - really only applicable if onlylast is false                                                                                                                   \n",
    "            trialOrder = []\n",
    "            maxbeta = 0\n",
    "            for t,trialobj in enumerate(trialppt.Set):\n",
    "                nbeta = len(trialobj['categories'][1])\n",
    "                trialppt.Set[t]['trial'] = nbeta\n",
    "                trialOrder += [nbeta]\n",
    "                maxbeta = max(nbeta,maxbeta)\n",
    "            trialOrder = np.argsort(trialOrder)\n",
    "            #Add dummy last trial to plot gradients for hypothetical fifth beta\n",
    "            newcatB = np.append(trialppt.Set[trialOrder[maxbeta]]['categories'][1],trialppt.Set[trialOrder[maxbeta]]['response'])\n",
    "            newcatAll = [trialppt.Set[trialOrder[maxbeta]]['categories'][0],newcatB]\n",
    "            trialppt.add(response=0,categories=newcatAll, participant = ppt)\n",
    "            trialOrder = np.append(trialOrder,maxbeta+1)\n",
    "\n",
    "            if showlast:\n",
    "                ntrials = 1\n",
    "                plottrials = [len(trialppt.Set)-1] #plot only last trial\n",
    "            else:\n",
    "                ntrials = len(trialppt.Set)\n",
    "                plottrials = range(ntrials)\n",
    "            for trial in plottrials:\n",
    "                categories = [trialppt.stimuli[i,:] for i in trialppt.Set[trialOrder[trial]]['categories'] if len(i)>0]\n",
    "                A = categories[0]\n",
    "                resp = trialppt.stimuli[trialppt.Set[trialOrder[trial]]['response'],:]\n",
    "                if len(categories)>1:\n",
    "                    #include the response                                                                                                                  \n",
    "                    B = np.append(categories[1],resp,axis=0)\n",
    "                    if showlast:\n",
    "                        #Include response in generatin of ps                \n",
    "                        categories[1] = B\n",
    "                else:\n",
    "                    #categories += [resp]\n",
    "                    B = resp            \n",
    "                ps = []\n",
    "                ll_trial = []\n",
    "                for m,model in enumerate(modelList):\n",
    "                    plotcol = pi*4+m\n",
    "                    plotrow = \n",
    "                    if m==bestmodel:\n",
    "                        winstr = '*'\n",
    "                    else:\n",
    "                        winstr = ''\n",
    "                    if ntrials>1:\n",
    "                        ax[0,plotcol].set_title('{}{}{}, ll={:.2f}'.format(winstr,model.modelshort,winstr,llrow[m]))\n",
    "                    else:                    \n",
    "                        ax[plotcol].set_title('{}{}{}, ll={:.2f}'.format(winstr,model.modelshort,winstr,llrow[m]))\n",
    "                    params = best_params[model.model]\n",
    "                    #Plot heatmap for each model\n",
    "                    ps += [model(categories,params,trialppt.stimrange).get_generation_ps(trialppt.stimuli,1,'generate')]\n",
    "                    #Get lls for each trial step\n",
    "                    ll_trial += [trialppt.loglike(params=params,model=model,parmxform=False,whole_array=True)]\n",
    "\n",
    "\n",
    "                #Plot the individual plots\n",
    "                plotct = 0\n",
    "                plotVals = []\n",
    "                psMax = 0\n",
    "                psMin = 1\n",
    "                #Get range                                                                                                                                     \n",
    "                for ps_el in ps:\n",
    "                    psMax = max(psMax,ps_el.max())\n",
    "                    psMin = min(psMin,ps_el.min())\n",
    "\n",
    "                #Normalise all values                                                                                                                          \n",
    "                psRange = psMax-psMin\n",
    "                for i,ps_el in enumerate(ps): #each ps element correspond to a model\n",
    "                    plotcol = pi*4+i\n",
    "                    plotct += 1\n",
    "                    gps = funcs.gradientroll(ps_el,'roll')[:,:,0]\n",
    "                    ps_ElRange = gps.max()-gps.min();\n",
    "                    plotVals += [(gps-gps.min())/ps_ElRange]                                                                             \n",
    "                    betacol = ['green' for bi in range(len(B))]\n",
    "    #                 if task is 'generate':\n",
    "    #                     betacol[len(B)-1] = 'orange'\n",
    "                    if ntrials>1:\n",
    "                        betacol[len(B)-1] = 'orange'\n",
    "                        if trial == ntrials-1:\n",
    "                            betacol[len(B)-1] = [0,0,0,0]\n",
    "                        im = funcs.plotgradient(ax[trial,i], plotVals[i], A, B, clim = STAT_LIMS, cmap = 'PuOr',beta_col=betacol)\n",
    "                        ax[trial,plotcol].set_ylabel('Trial {}'.format(trial))\n",
    "                        if trial<ntrials-1:\n",
    "                            ax[trial,plotcol].set_xlabel('ll_trial = {:.2f}'.format(ll_trial[i][trial]),fontsize=10)\n",
    "                        #else:\n",
    "\n",
    "                    else:\n",
    "                        im = funcs.plotgradient(ax[plotcol], plotVals[i], A, B, clim = STAT_LIMS, cmap = 'PuOr',beta_col=betacol)\n",
    "    #                     ax[i].set_ylabel('Trial {}'.format(trial))\n",
    "            #Save fig\n",
    "            savedirext = '{}/{}'.format(savedir,bestmodelstr)\n",
    "            if os.path.isdir(savedirext):\n",
    "                pass\n",
    "    #             plt.savefig('{}/{}_{}'.format(savedirext,int(ppt),bestmodelstr[0]))\n",
    "            else:\n",
    "                pass\n",
    "    #             os.mkdir(savedirext)\n",
    "    #             plt.savefig('{}/{}_{}'.format(savedirext,int(ppt),bestmodelstr[0]))\n",
    "    lll\n",
    "\n",
    "    \n"
   ]
  },
  {
   "cell_type": "code",
   "execution_count": null,
   "metadata": {},
   "outputs": [],
   "source": [
    "ppt"
   ]
  },
  {
   "cell_type": "code",
   "execution_count": null,
   "metadata": {},
   "outputs": [],
   "source": [
    "#Print a summary\n",
    "print('Tally of bests:')\n",
    "\n",
    "for m,model in enumerate(modelList):\n",
    "    print('%s: %.2f' % (model.modelshort,tally[m]))"
   ]
  },
  {
   "cell_type": "code",
   "execution_count": null,
   "metadata": {},
   "outputs": [],
   "source": [
    "trialppt.Set"
   ]
  },
  {
   "cell_type": "code",
   "execution_count": null,
   "metadata": {},
   "outputs": [],
   "source": [
    "trialppt.Set[len(trialppt.Set)-1]['categories']"
   ]
  },
  {
   "cell_type": "code",
   "execution_count": null,
   "metadata": {},
   "outputs": [],
   "source": [
    "temp= cp.deepcopy(trialppt)\n",
    "newcatB = np.append(temp.Set[len(trialppt.Set)-1]['categories'][1],temp.Set[len(trialppt.Set)-1]['response'])\n",
    "newcatAll = [temp.Set[len(trialppt.Set)-1]['categories'][0],newcatB]\n",
    "temp.add(response=np.array([0,0]),categories=newcatAll, participant = ppt)"
   ]
  },
  {
   "cell_type": "code",
   "execution_count": null,
   "metadata": {},
   "outputs": [],
   "source": [
    "trialppt.loglike(params=params,model=model,parmxform=False,whole_array=False)"
   ]
  },
  {
   "cell_type": "code",
   "execution_count": null,
   "metadata": {},
   "outputs": [],
   "source": [
    "sum(trialppt.loglike(params=params,model=model,parmxform=False,whole_array=True))"
   ]
  },
  {
   "cell_type": "code",
   "execution_count": null,
   "metadata": {},
   "outputs": [],
   "source": [
    "trialppt.loglike(params=params,model=model,parmxform=False,whole_array=True)"
   ]
  },
  {
   "cell_type": "code",
   "execution_count": null,
   "metadata": {},
   "outputs": [],
   "source": [
    "newcatAll"
   ]
  },
  {
   "cell_type": "code",
   "execution_count": null,
   "metadata": {},
   "outputs": [],
   "source": [
    "maxbeta"
   ]
  },
  {
   "cell_type": "code",
   "execution_count": null,
   "metadata": {},
   "outputs": [],
   "source": [
    "trialOrder"
   ]
  },
  {
   "cell_type": "code",
   "execution_count": null,
   "metadata": {},
   "outputs": [],
   "source": []
  }
 ],
 "metadata": {
  "kernelspec": {
   "display_name": "Python 2",
   "language": "python",
   "name": "python2"
  },
  "language_info": {
   "codemirror_mode": {
    "name": "ipython",
    "version": 2
   },
   "file_extension": ".py",
   "mimetype": "text/x-python",
   "name": "python",
   "nbconvert_exporter": "python",
   "pygments_lexer": "ipython2",
   "version": "2.7.16"
  }
 },
 "nbformat": 4,
 "nbformat_minor": 2
}
